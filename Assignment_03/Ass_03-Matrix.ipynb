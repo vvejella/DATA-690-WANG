{
 "cells": [
  {
   "cell_type": "code",
   "execution_count": 129,
   "metadata": {},
   "outputs": [
    {
     "name": "stdout",
     "output_type": "stream",
     "text": [
      " 4  1  2  5  7  8  2  7  9  7\n",
      " 3  5  7  6  0  2  7  0  5  0\n",
      " 0  1  7  0  5  3  7  5  2  5\n",
      " 5  7  5  1  6  3  5  6  4  6\n",
      " 6  2  6  8  2  4  6  2  2  2\n",
      " 8  8  0  3  6  7  0  6  4  6\n",
      " 2  6  2  6  6  4  2  6  4  6\n",
      " 7  2  7  3  0  0  7  0  2  0\n",
      " 8  8  6  8  1  7  6  1  0  1\n",
      " 7  4  9  8  3  8  9  3  6  3\n"
     ]
    }
   ],
   "source": [
    "import pandas as pd\n",
    "from random import randint\n",
    "\n",
    "rows = 10 \n",
    "cols = 10  \n",
    "my_list = [] \n",
    "for i in range(0, rows):\n",
    "    sample = [] # taking a sample list\n",
    "    for j in range(0, cols): # iterating list with random numbers\n",
    "        sample.append(randint(0, 9)) # appending 0 to 9 numbers into list randomly\n",
    "    my_list.append(sample) # adding sample list my list\n",
    "\n",
    "data = pd.DataFrame(my_list) # using pandas dataframe print list in matrix format\n",
    "\n",
    "df = pd.DataFrame(data[1:],columns=data[0])\n",
    "print(df.to_string(index=False))"
   ]
  },
  {
   "cell_type": "code",
   "execution_count": 157,
   "metadata": {},
   "outputs": [
    {
     "name": "stdout",
     "output_type": "stream",
     "text": [
      " 0  1  2  3  4  5  6  7  8  9\n",
      " 4  8  @  @  @  @  8  2  8  2\n",
      " @  @  @  6  @  0  @  @  2  4\n",
      " 8  @  6  @  @  2  @  @  8  6\n",
      " 8  @  @  @  @  4  @  @  4  @\n",
      " 4  0  4  6  @  4  @  @  0  @\n",
      " 2  @  @  4  @  4  @  6  6  6\n",
      " 0  @  6  6  @  2  0  6  0  4\n",
      " 8  @  @  0  @  @  @  @  4  @\n",
      " @  6  @  @  @  0  2  0  @  @\n",
      " 0  4  8  @  @  @  @  4  @  2\n"
     ]
    }
   ],
   "source": [
    "import pandas as pd\n",
    "from random import randint\n",
    "\n",
    "rows = 10 \n",
    "cols = 10  \n",
    "my_list = [] \n",
    "b=[1, 3, 5, 7, 9] # giving odd numbers in a list\n",
    "for i in range(0, rows):\n",
    "    sample = [] \n",
    "    for j in range(0, cols): \n",
    "        sample.append(randint(0, 9))\n",
    "            \n",
    "            \n",
    "    for index, item in enumerate(sample): # iterate through the random numbers \n",
    "        if item % 2 ==  1: # checking whether it is odd or not \n",
    "            sample[index]='@'# if odd print '@' in that place\n",
    "            \n",
    "    my_list.append(sample) # appending into my list\n",
    "                              \n",
    "\n",
    "data = pd.DataFrame(my_list) \n",
    "\n",
    "print(data.to_string(index=False))"
   ]
  },
  {
   "cell_type": "code",
   "execution_count": 151,
   "metadata": {},
   "outputs": [
    {
     "name": "stdout",
     "output_type": "stream",
     "text": [
      " 0   1   2   3   4   5   6   7   8   9  10  11\n",
      "  5   3   7   9   6   7   6   4   2   4  *  53\n",
      "  3   8   3   6   1   1   2   8   6   9  *  47\n",
      "  3   9   2   5   1   1   2   7   7   9  *  46\n",
      "  4   6   9   2   5   2   8   9   0   8  *  53\n",
      "  5   6   0   1   2   4   6   7   8   3  *  42\n",
      "  6   1   6   6   4   8   3   9   6   4  *  53\n",
      "  4   8   9   3   8   0   4   7   4   1  *  48\n",
      "  7   6   9   1   5   7   9   1   0   5  *  50\n",
      "  5   6   2   9   3   0   5   5   0   8  *  43\n",
      "  4   8   8   4   4   6   7   0   8   3  *  52\n"
     ]
    }
   ],
   "source": [
    "import pandas as pd\n",
    "from random import randint\n",
    "\n",
    "rows = 10 \n",
    "cols = 10  \n",
    "my_list = [] \n",
    "# b=[1, 3, 5, 7, 9]\n",
    "for i in range(0, rows):\n",
    "    sample = [] \n",
    "    for j in range(0, cols): \n",
    "        sample.append(randint(0, 9))\n",
    "        \n",
    "    result = 0\n",
    "    for x in sample:\n",
    "         result = result + x   # adding total of each row\n",
    "    sample.append('*') # seperating using *\n",
    "    sample.append(result) # appending to sample list\n",
    "    \n",
    "\n",
    "   # _list.append('result')\n",
    "        \n",
    "    my_list.append(sample) # then to my list\n",
    "                             \n",
    "\n",
    "data = pd.DataFrame(my_list) \n",
    "#print(data.to_string(index=False))"
   ]
  },
  {
   "cell_type": "code",
   "execution_count": null,
   "metadata": {},
   "outputs": [],
   "source": []
  }
 ],
 "metadata": {
  "kernelspec": {
   "display_name": "Python 3",
   "language": "python",
   "name": "python3"
  },
  "language_info": {
   "codemirror_mode": {
    "name": "ipython",
    "version": 3
   },
   "file_extension": ".py",
   "mimetype": "text/x-python",
   "name": "python",
   "nbconvert_exporter": "python",
   "pygments_lexer": "ipython3",
   "version": "3.8.5"
  }
 },
 "nbformat": 4,
 "nbformat_minor": 4
}
