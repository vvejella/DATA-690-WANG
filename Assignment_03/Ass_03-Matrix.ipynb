{
 "cells": [
  {
   "cell_type": "code",
   "execution_count": 162,
   "metadata": {},
   "outputs": [
    {
     "name": "stdout",
     "output_type": "stream",
     "text": [
      " 3  6  0  5  0  5  9  4  0  2\n",
      " 7  6  6  0  6  0  4  7  6  9\n",
      " 6  7  0  7  0  7  2  9  0  1\n",
      " 7  0  5  3  5  3  8  7  5  1\n",
      " 5  2  0  6  0  6  8  4  0  5\n",
      " 9  0  5  2  5  2  2  0  5  1\n",
      " 0  3  9  0  9  0  0  6  9  4\n",
      " 0  2  4  3  4  3  7  2  4  4\n",
      " 6  7  0  3  0  3  1  0  0  5\n",
      " 8  8  2  9  2  9  8  0  2  4\n"
     ]
    }
   ],
   "source": [
    "import pandas as pd\n",
    "from random import randint\n",
    "\n",
    "rows = 10 \n",
    "cols = 10  \n",
    "my_list = [] \n",
    "for i in range(0, rows):\n",
    "    sample = [] # taking a sample list\n",
    "    for j in range(0, cols): # iterating list with random numbers\n",
    "        sample.append(randint(0, 9)) # appending 0 to 9 numbers into list randomly\n",
    "    my_list.append(sample) # adding sample list my list\n",
    "\n",
    "data = pd.DataFrame(my_list) # using pandas dataframe print list in matrix format\n",
    "\n",
    "df = pd.DataFrame(data[1:],columns=data[0])\n",
    "print(df.to_string(index=False))"
   ]
  },
  {
   "cell_type": "code",
   "execution_count": 159,
   "metadata": {},
   "outputs": [
    {
     "name": "stdout",
     "output_type": "stream",
     "text": [
      " 0  @  0  2  8  @  8  @  @  4\n",
      " 6  6  0  2  0  @  @  0  @  8\n",
      " 0  @  @  @  @  8  @  @  4  @\n",
      " @  @  @  2  8  @  @  4  @  @\n",
      " 6  @  @  @  @  @  6  @  2  @\n",
      " @  @  @  @  8  @  @  @  @  0\n",
      " @  6  8  0  @  @  2  @  @  2\n",
      " @  0  6  4  @  2  2  @  4  2\n",
      " 4  @  @  4  2  8  0  8  @  @\n",
      " 4  @  @  @  6  @  8  0  0  @\n"
     ]
    }
   ],
   "source": [
    "import pandas as pd\n",
    "from random import randint\n",
    "\n",
    "rows = 10 \n",
    "cols = 10  \n",
    "my_list = [] \n",
    "b=[1, 3, 5, 7, 9] # giving odd numbers in a list\n",
    "for i in range(0, rows):\n",
    "    sample = [] \n",
    "    for j in range(0, cols): \n",
    "        sample.append(randint(0, 9))\n",
    "            \n",
    "            \n",
    "    for index, item in enumerate(sample): # iterate through the random numbers \n",
    "        if item % 2 ==  1: # checking whether it is odd or not \n",
    "            sample[index]='@'# if odd print '@' in that place\n",
    "            \n",
    "    my_list.append(sample) # appending into my list\n",
    "                              \n",
    "\n",
    "data = pd.DataFrame(my_list) \n",
    "\n",
    "print(data.to_string(index=False, header = None))"
   ]
  },
  {
   "cell_type": "code",
   "execution_count": 160,
   "metadata": {},
   "outputs": [
    {
     "name": "stdout",
     "output_type": "stream",
     "text": [
      " 3  1  1  8  8  1  2  4  4  8  *  40\n",
      " 4  8  2  3  3  1  3  4  6  9  *  43\n",
      " 1  7  1  0  5  1  5  1  8  4  *  33\n",
      " 3  9  6  4  3  7  4  7  8  0  *  51\n",
      " 9  8  2  2  0  9  2  7  2  2  *  43\n",
      " 2  4  4  1  3  5  5  1  0  5  *  30\n",
      " 9  1  3  1  7  1  4  3  6  9  *  44\n",
      " 0  0  6  7  2  9  2  8  6  4  *  44\n",
      " 3  1  9  0  7  4  4  3  6  8  *  45\n",
      " 0  1  0  5  0  1  1  9  4  8  *  29\n"
     ]
    }
   ],
   "source": [
    "import pandas as pd\n",
    "from random import randint\n",
    "\n",
    "rows = 10 \n",
    "cols = 10  \n",
    "my_list = [] \n",
    "# b=[1, 3, 5, 7, 9]\n",
    "for i in range(0, rows):\n",
    "    sample = [] \n",
    "    for j in range(0, cols): \n",
    "        sample.append(randint(0, 9))\n",
    "        \n",
    "    result = 0\n",
    "    for x in sample:\n",
    "         result = result + x   # adding total of each row\n",
    "    sample.append('*') # seperating using *\n",
    "    sample.append(result) # appending to sample list\n",
    "    \n",
    "\n",
    "   # _list.append('result')\n",
    "        \n",
    "    my_list.append(sample) # then to my list\n",
    "                             \n",
    "\n",
    "data = pd.DataFrame(my_list) \n",
    "print(data.to_string(index=False, header = None))"
   ]
  },
  {
   "cell_type": "code",
   "execution_count": null,
   "metadata": {},
   "outputs": [],
   "source": []
  }
 ],
 "metadata": {
  "kernelspec": {
   "display_name": "Python 3",
   "language": "python",
   "name": "python3"
  },
  "language_info": {
   "codemirror_mode": {
    "name": "ipython",
    "version": 3
   },
   "file_extension": ".py",
   "mimetype": "text/x-python",
   "name": "python",
   "nbconvert_exporter": "python",
   "pygments_lexer": "ipython3",
   "version": "3.8.5"
  }
 },
 "nbformat": 4,
 "nbformat_minor": 4
}
