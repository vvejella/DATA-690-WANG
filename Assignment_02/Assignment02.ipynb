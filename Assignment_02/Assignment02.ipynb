{
 "cells": [
  {
   "cell_type": "code",
   "execution_count": 12,
   "metadata": {},
   "outputs": [
    {
     "name": "stdout",
     "output_type": "stream",
     "text": [
      "enter integer:3\n",
      "enter integer:1\n",
      "enter integer:0\n",
      "enter integer:11\n",
      "enter integer:13\n",
      "enter integer:7\n",
      "enter integer:9\n",
      "enter integer:6\n",
      "enter integer:2\n",
      "Total list:  ['7', '3', '1', '0', '11', '13', '7', '9', '6', '2']\n"
     ]
    }
   ],
   "source": [
    "data = []\n",
    "flag = 0\n",
    "for x in range(flag, 10): # iterate through the range\n",
    "    while x > 0:\n",
    "        try:\n",
    "            my_list = input(\"enter integer:\") \n",
    "            a = int(my_list) # check input is integer/not\n",
    "            break # if input is int breaks loop and add to list\n",
    "        except:\n",
    "            print(\"retry. Try only integer\") # exception raises for wrong input\n",
    "        \n",
    "    data.append(my_list) # adding elements in list\n",
    "    \n",
    "print(\"Total list: \", data)"
   ]
  },
  {
   "cell_type": "code",
   "execution_count": 13,
   "metadata": {},
   "outputs": [
    {
     "name": "stdout",
     "output_type": "stream",
     "text": [
      "[7, 3, 1, 0, 11, 13, 7, 9, 6, 2]\n"
     ]
    }
   ],
   "source": [
    "for i in range(0, len(data)): \n",
    "    data[i] = int(data[i]) # converting string list to int\n",
    "    \n",
    "print(data)"
   ]
  },
  {
   "cell_type": "code",
   "execution_count": 14,
   "metadata": {},
   "outputs": [
    {
     "name": "stdout",
     "output_type": "stream",
     "text": [
      "maximum:  13\n",
      "minimum:  0\n",
      "range:  13\n"
     ]
    }
   ],
   "source": [
    "print(\"maximum: \", max(data)) # maximum of list\n",
    "print(\"minimum: \", min(data)) # minimum of list\n",
    "a = max(data) - min(data) # range between max and min of list\n",
    "print(\"range: \", a)"
   ]
  },
  {
   "cell_type": "code",
   "execution_count": 25,
   "metadata": {},
   "outputs": [
    {
     "name": "stdout",
     "output_type": "stream",
     "text": [
      "mean:  5.9\n",
      "Variance:  18.98888888888889\n",
      "standard deviation:  4.357624225296267\n"
     ]
    }
   ],
   "source": [
    "def get_output(data):\n",
    "    length = len(data) # calculate length of list\n",
    "    avg = sum(data) / length # calculate mean of list\n",
    "    print(\"mean: \", avg)\n",
    "    a = [(i-avg) **2 for i in data] \n",
    "    b = sum(a) / (length - 1) # calculate variance of list\n",
    "    print(\"Variance: \", b)\n",
    "    c = b ** (1/2) # calculate standard deviation \n",
    "    return c\n",
    "    \n",
    "print(\"standard deviation: \", get_output(data))"
   ]
  },
  {
   "cell_type": "code",
   "execution_count": null,
   "metadata": {},
   "outputs": [],
   "source": []
  }
 ],
 "metadata": {
  "kernelspec": {
   "display_name": "Python 3",
   "language": "python",
   "name": "python3"
  },
  "language_info": {
   "codemirror_mode": {
    "name": "ipython",
    "version": 3
   },
   "file_extension": ".py",
   "mimetype": "text/x-python",
   "name": "python",
   "nbconvert_exporter": "python",
   "pygments_lexer": "ipython3",
   "version": "3.8.5"
  }
 },
 "nbformat": 4,
 "nbformat_minor": 4
}
