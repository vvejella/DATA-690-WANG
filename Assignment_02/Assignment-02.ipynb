{
 "cells": [
  {
   "cell_type": "code",
   "execution_count": 1,
   "metadata": {},
   "outputs": [
    {
     "name": "stdout",
     "output_type": "stream",
     "text": [
      "enter a integer: 1\n",
      "enter a integer: 3\n",
      "enter a integer: 7\n",
      "enter a integer: 8\n",
      "enter a integer: 11\n",
      "enter a integer: 9\n",
      "enter a integer: 0\n",
      "enter a integer: 4\n",
      "enter a integer: 6\n",
      "enter a integer: 10\n",
      "Total list:  ['1', '3', '7', '8', '11', '9', '0', '4', '6', '10']\n"
     ]
    }
   ],
   "source": [
    "data1 = []\n",
    "flag = 11\n",
    "for x in range(1, flag): # iterating through the given range\n",
    "    while x > 0:\n",
    "        try:\n",
    "            my_input = input(\"enter a integer: \")\n",
    "            a = int(my_input) # checking input integer or not\n",
    "            break\n",
    "        except:\n",
    "            print(\"retry type a integer input only\") # exception raise \n",
    "\n",
    "    data1.append(my_input) # appending input given into list\n",
    "\n",
    "print(\"Total list: \", data1) # print list"
   ]
  },
  {
   "cell_type": "code",
   "execution_count": 7,
   "metadata": {},
   "outputs": [
    {
     "name": "stdout",
     "output_type": "stream",
     "text": [
      "[1, 3, 7, 8, 11, 9, 0, 4, 6, 10]\n"
     ]
    }
   ],
   "source": [
    "for p in range(0,len(data1)):\n",
    "    data1[p] = int(data1[p]) # convert string list to int\n",
    "\n",
    "print(data1)"
   ]
  },
  {
   "cell_type": "code",
   "execution_count": 6,
   "metadata": {},
   "outputs": [
    {
     "name": "stdout",
     "output_type": "stream",
     "text": [
      "11\n",
      "0\n",
      "range:  11\n",
      "mean:  5.9\n",
      "Standard deviation:  [24.010000000000005, 8.410000000000002, 1.2099999999999993, 4.409999999999998, 26.009999999999998, 9.609999999999998, 34.81, 3.610000000000001, 0.009999999999999929, 16.81]\n",
      "varinace is: 12.89\n"
     ]
    }
   ],
   "source": [
    "print(max(data1))\n",
    "print(min(data1))\n",
    "a = max(data1) - min(data1) # calculate range of list\n",
    "print(\"range: \", a)\n",
    "def get_output(data1):\n",
    "    length = len(data1) # calculate length of list\n",
    "    mean = sum(data1) / length # calculate average of list\n",
    "    print(\"mean: \", mean)\n",
    "    dev = [(i-mean) **2 for i in data1] # calculate standard deviation of list\n",
    "    print(\"Standard deviation: \", dev)\n",
    "    var = sum(dev) / length # calculate variance of list\n",
    "    return var\n",
    "print(\"varinace is:\", get_output(data1))"
   ]
  },
  {
   "cell_type": "code",
   "execution_count": null,
   "metadata": {},
   "outputs": [],
   "source": []
  },
  {
   "cell_type": "code",
   "execution_count": null,
   "metadata": {},
   "outputs": [],
   "source": []
  }
 ],
 "metadata": {
  "kernelspec": {
   "display_name": "Python 3",
   "language": "python",
   "name": "python3"
  },
  "language_info": {
   "codemirror_mode": {
    "name": "ipython",
    "version": 3
   },
   "file_extension": ".py",
   "mimetype": "text/x-python",
   "name": "python",
   "nbconvert_exporter": "python",
   "pygments_lexer": "ipython3",
   "version": "3.8.5"
  }
 },
 "nbformat": 4,
 "nbformat_minor": 4
}
