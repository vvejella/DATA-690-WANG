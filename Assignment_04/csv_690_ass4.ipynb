{
 "cells": [
  {
   "cell_type": "code",
   "execution_count": 39,
   "metadata": {
    "colab": {
     "base_uri": "https://localhost:8080/"
    },
    "id": "Sc9qC8mu5dwi",
    "outputId": "f332a858-6e8c-4c3f-9b84-9a598ad1e43b"
   },
   "outputs": [
    {
     "name": "stdout",
     "output_type": "stream",
     "text": [
      "[['Source: https://www.genealogybranches.com/censuscosts.html'], ['Census Year', 'Total Population', 'Census Cost', 'Average Cost Per Person'], ['1790', '3,929,214', '$44,377', '1.13 cents'], ['1800', '5,308,483', '$66,109', '1.24 cents'], ['1810', '7,239,881', '$178,445', '2.46 cents'], ['1820', '9,633,822', '$208,526', '2.16 cents'], ['1830', '12,866,020', '$378,545', '2.94 cents'], ['1840', '17,069,458', '$833,371', '4.88 cents'], ['1850', '23,191,876', '$1,423,351', '6.14 cents'], ['1860', '31,443,321', '$1,969,377', '6.26 cents'], ['1870', '38,558,371', '$3,421,198', '8.87 cents'], ['1880', '50,155,783', '$5,790,678', '11.54 cents'], ['1890', '62,979,766', '$11,547,127', '18.33 cents'], ['1900', '76,303,387', '$11,854,000', '15.54 cents'], ['1910', '91,972,266', '$15,968,000', '17.07 cents'], ['1920', '105,710,620', '$25,117,000', '23.76 cents'], ['1930', '122,775,046', '$40,156,000', '32.71 cents'], ['1940', '131,669,275', '$67,527,000', '51.29 cents'], ['1950', '151,325,798', '$91,462,000', '60.44 cents'], ['1960', '179,323,175', '$127,934,000', '71.34 cents'], ['1970', '203,302,031', '$247,653,000', '$1.22'], ['1980', '226,542,199', '$1,078,488,000', '$4.76'], ['1990', '248,718,301', '$2,492,830,000', '$10.02'], ['2000', '281,421,906', '$4.5 Billion', '$15.99'], ['2010*', '308,745,538', '$13 Billion', '$42.11']]\n"
     ]
    }
   ],
   "source": [
    "import csv\n",
    "with open('census_cost.txt','r+') as data: # reading txt file\n",
    "  df1 = csv.reader(data, delimiter='\\t') # removing delimiters\n",
    "  line_list=[]\n",
    "  for line in df1:\n",
    "    line_list.append(line)\n",
    "  print(line_list) # prints txt file in form of list"
   ]
  },
  {
   "cell_type": "code",
   "execution_count": 40,
   "metadata": {
    "colab": {
     "base_uri": "https://localhost:8080/"
    },
    "id": "p_gfBN4H9ybE",
    "outputId": "c1ddf8ed-1a8f-41aa-e2b3-46825dc73ee7"
   },
   "outputs": [
    {
     "name": "stdout",
     "output_type": "stream",
     "text": [
      "[['Source: https://www.genealogybranches.com/censuscosts.html'], ['Census Year', 'Total Population', 'Census Cost', 'Average Cost Per Person']]\n"
     ]
    }
   ],
   "source": [
    "top2_list=line_list[:2] # removing first two lines and put them in a different list named \"top2_list\"\n",
    "print(top2_list)"
   ]
  },
  {
   "cell_type": "code",
   "execution_count": 41,
   "metadata": {
    "colab": {
     "base_uri": "https://localhost:8080/"
    },
    "id": "PFqixbmZrT0V",
    "outputId": "497cd09d-a013-44cb-c6c0-6c63d50c851e"
   },
   "outputs": [
    {
     "name": "stdout",
     "output_type": "stream",
     "text": [
      "[['1790', '3,929,214', '$44,377', '1.13 cents'], ['1800', '5,308,483', '$66,109', '1.24 cents'], ['1810', '7,239,881', '$178,445', '2.46 cents'], ['1820', '9,633,822', '$208,526', '2.16 cents'], ['1830', '12,866,020', '$378,545', '2.94 cents'], ['1840', '17,069,458', '$833,371', '4.88 cents'], ['1850', '23,191,876', '$1,423,351', '6.14 cents'], ['1860', '31,443,321', '$1,969,377', '6.26 cents'], ['1870', '38,558,371', '$3,421,198', '8.87 cents'], ['1880', '50,155,783', '$5,790,678', '11.54 cents'], ['1890', '62,979,766', '$11,547,127', '18.33 cents'], ['1900', '76,303,387', '$11,854,000', '15.54 cents'], ['1910', '91,972,266', '$15,968,000', '17.07 cents'], ['1920', '105,710,620', '$25,117,000', '23.76 cents'], ['1930', '122,775,046', '$40,156,000', '32.71 cents'], ['1940', '131,669,275', '$67,527,000', '51.29 cents'], ['1950', '151,325,798', '$91,462,000', '60.44 cents'], ['1960', '179,323,175', '$127,934,000', '71.34 cents'], ['1970', '203,302,031', '$247,653,000', '$1.22'], ['1980', '226,542,199', '$1,078,488,000', '$4.76'], ['1990', '248,718,301', '$2,492,830,000', '$10.02'], ['2000', '281,421,906', '$4.5 Billion', '$15.99'], ['2010*', '308,745,538', '$13 Billion', '$42.11']]\n"
     ]
    }
   ],
   "source": [
    "data_list=line_list[2:] # print remaining elements in data_list\n",
    "print(data_list)"
   ]
  },
  {
   "cell_type": "code",
   "execution_count": 43,
   "metadata": {
    "colab": {
     "base_uri": "https://localhost:8080/"
    },
    "id": "-hzlyZJZszmE",
    "outputId": "584e34a0-ebeb-4292-eb62-3abbbec57d5e"
   },
   "outputs": [
    {
     "name": "stdout",
     "output_type": "stream",
     "text": [
      "['1800', '1810', '1820', '1830', '1840', '1850', '1860', '1870', '1880', '1890', '1900', '1910', '1920', '1930', '1940', '1950', '1960', '1970', '1980', '1990', '2000', '2010']\n"
     ]
    }
   ],
   "source": [
    "year_list=[]\n",
    "for yr in data_list[1:]: # extracting year column from data_list\n",
    "  year=yr[0].replace('*','') # removing delimiters\n",
    "  year_list.append(year)\n",
    "print(year_list)"
   ]
  },
  {
   "cell_type": "code",
   "execution_count": 44,
   "metadata": {
    "colab": {
     "base_uri": "https://localhost:8080/"
    },
    "id": "avzGTwbOtMnv",
    "outputId": "b4d2e2ab-17b4-4b1a-f074-61077aac1270"
   },
   "outputs": [
    {
     "name": "stdout",
     "output_type": "stream",
     "text": [
      "['5308483', '7239881', '9633822', '12866020', '17069458', '23191876', '31443321', '38558371', '50155783', '62979766', '76303387', '91972266', '105710620', '122775046', '131669275', '151325798', '179323175', '203302031', '226542199', '248718301', '281421906', '308745538']\n"
     ]
    }
   ],
   "source": [
    "pop_list=[]\n",
    "for pop in data_list[1:]:  # extracting population column from data_list\n",
    "  popula=pop[1].replace(',','') # removes commas \n",
    "  pop_list.append(popula)\n",
    "print(pop_list)"
   ]
  },
  {
   "cell_type": "code",
   "execution_count": 45,
   "metadata": {
    "colab": {
     "base_uri": "https://localhost:8080/"
    },
    "id": "2zw2XE1BtO3a",
    "outputId": "3c7d1d0e-4a15-4e1f-e63e-1aad639c78e5"
   },
   "outputs": [
    {
     "name": "stdout",
     "output_type": "stream",
     "text": [
      "[66109.0, 178445.0, 208526.0, 378545.0, 833371.0, 1423351.0, 1969377.0, 3421198.0, 5790678.0, 11547127.0, 11854000.0, 15968000.0, 25117000.0, 40156000.0, 67527000.0, 91462000.0, 127934000.0, 247653000.0, 1078488000.0, 2492830000.0, 4500000000.0, 13000000000.0]\n"
     ]
    }
   ],
   "source": [
    "cost_list=[]\n",
    "for cost in data_list[1:]: # extracting cost column from data_list\n",
    "  c=cost[2].replace(',','').replace('$','').replace(' ','') # removes $, commas\n",
    "  if 'Billion' in c: # checing if Billion removes word 'billion' & multiply with 1000000000\n",
    "    x=c.replace('Billion','')\n",
    "    cost_list.append(float(x)*1000000000)\n",
    "  else:\n",
    "    cost_list.append(float(c))\n",
    "print(cost_list)"
   ]
  },
  {
   "cell_type": "code",
   "execution_count": 46,
   "metadata": {
    "colab": {
     "base_uri": "https://localhost:8080/"
    },
    "id": "-ejf-W6Vtn1e",
    "outputId": "16b1b8d9-2d1b-4893-cc70-0c29b3709633"
   },
   "outputs": [
    {
     "name": "stdout",
     "output_type": "stream",
     "text": [
      "[0.0124, 0.0246, 0.0216, 0.0294, 0.048799999999999996, 0.061399999999999996, 0.0626, 0.08869999999999999, 0.11539999999999999, 0.1833, 0.15539999999999998, 0.1707, 0.2376, 0.3271, 0.5129, 0.6043999999999999, 0.7134, 1.22, 4.76, 10.02, 15.99, 42.11]\n"
     ]
    }
   ],
   "source": [
    "avg_list=[]\n",
    "for a in data_list[1:]: # extracting average cost from data_list\n",
    "  avg=a[3].replace('$','').replace(' ','') # removes $\n",
    "  if 'cents' in avg: # checking cents and dollars\n",
    "    y=avg.replace('cents','') # removes word 'cents'\n",
    "    avg_list.append(float(y)/100) # if cents divide by 100\n",
    "  else:\n",
    "    avg_list.append(float(avg))\n",
    "print(avg_list)"
   ]
  },
  {
   "cell_type": "code",
   "execution_count": 16,
   "metadata": {
    "colab": {
     "base_uri": "https://localhost:8080/"
    },
    "id": "wDPfjEpdjAzm",
    "outputId": "d226219c-18fc-47a2-9176-14767974d9d4"
   },
   "outputs": [
    {
     "name": "stdout",
     "output_type": "stream",
     "text": [
      "[['Source: https://www.genealogybranches.com/censuscosts.html'], ['Census Year', 'Total Population', 'Census Cost', 'Average Cost Per Person'], ('1800', '5308483', 66109.0, 0.0124), ('1810', '7239881', 178445.0, 0.0246), ('1820', '9633822', 208526.0, 0.0216), ('1830', '12866020', 378545.0, 0.0294), ('1840', '17069458', 833371.0, 0.048799999999999996), ('1850', '23191876', 1423351.0, 0.061399999999999996), ('1860', '31443321', 1969377.0, 0.0626), ('1870', '38558371', 3421198.0, 0.08869999999999999), ('1880', '50155783', 5790678.0, 0.11539999999999999), ('1890', '62979766', 11547127.0, 0.1833), ('1900', '76303387', 11854000.0, 0.15539999999999998), ('1910', '91972266', 15968000.0, 0.1707), ('1920', '105710620', 25117000.0, 0.2376), ('1930', '122775046', 40156000.0, 0.3271), ('1940', '131669275', 67527000.0, 0.5129), ('1950', '151325798', 91462000.0, 0.6043999999999999), ('1960', '179323175', 127934000.0, 0.7134), ('1970', '203302031', 247653000.0, 1.22), ('1980', '226542199', 1078488000.0, 4.76), ('1990', '248718301', 2492830000.0, 10.02), ('2000', '281421906', 4500000000.0, 15.99), ('2010', '308745538', 13000000000.0, 42.11)]\n"
     ]
    }
   ],
   "source": [
    "my_list=line_list[:2] # adding extracted top 2 lines in line_list\n",
    "add_lists = zip(year_list,pop_list,cost_list,avg_list) \n",
    "total_list = my_list+list(add_lists) # combining all lists\n",
    "print(total_list)"
   ]
  },
  {
   "cell_type": "code",
   "execution_count": 48,
   "metadata": {
    "colab": {
     "base_uri": "https://localhost:8080/",
     "height": 129
    },
    "id": "3svFJcYSG8X-",
    "outputId": "af106a0b-1b4d-43eb-a9b1-56cc595a1980"
   },
   "outputs": [],
   "source": [
    "with open('census_cost.csv','w+') as my_data:\n",
    "    for csv in total_list: # add total_list and print in form of csv\n",
    "        for items in csv :\n",
    "            a=str(items)\n",
    "            my_data.write(a + ',')\n",
    "        my_data.write('\\n')"
   ]
  },
  {
   "cell_type": "code",
   "execution_count": 49,
   "metadata": {
    "colab": {
     "base_uri": "https://localhost:8080/"
    },
    "id": "kTO2QieTMwaf",
    "outputId": "8dd70565-7ceb-4fb6-ebc3-6db7ff669ea7"
   },
   "outputs": [
    {
     "name": "stdout",
     "output_type": "stream",
     "text": [
      "['Source: https://www.genealogybranches.com/censuscosts.html', '']\n",
      "['Census Year', 'Total Population', 'Census Cost', 'Average Cost Per Person', '']\n",
      "['1800', '5308483', '66109.0', '0.0124', '']\n",
      "['1810', '7239881', '178445.0', '0.0246', '']\n",
      "['1820', '9633822', '208526.0', '0.0216', '']\n",
      "['1830', '12866020', '378545.0', '0.0294', '']\n",
      "['1840', '17069458', '833371.0', '0.048799999999999996', '']\n",
      "['1850', '23191876', '1423351.0', '0.061399999999999996', '']\n",
      "['1860', '31443321', '1969377.0', '0.0626', '']\n",
      "['1870', '38558371', '3421198.0', '0.08869999999999999', '']\n",
      "['1880', '50155783', '5790678.0', '0.11539999999999999', '']\n",
      "['1890', '62979766', '11547127.0', '0.1833', '']\n",
      "['1900', '76303387', '11854000.0', '0.15539999999999998', '']\n",
      "['1910', '91972266', '15968000.0', '0.1707', '']\n",
      "['1920', '105710620', '25117000.0', '0.2376', '']\n",
      "['1930', '122775046', '40156000.0', '0.3271', '']\n",
      "['1940', '131669275', '67527000.0', '0.5129', '']\n",
      "['1950', '151325798', '91462000.0', '0.6043999999999999', '']\n",
      "['1960', '179323175', '127934000.0', '0.7134', '']\n",
      "['1970', '203302031', '247653000.0', '1.22', '']\n",
      "['1980', '226542199', '1078488000.0', '4.76', '']\n",
      "['1990', '248718301', '2492830000.0', '10.02', '']\n",
      "['2000', '281421906', '4500000000.0', '15.99', '']\n",
      "['2010', '308745538', '13000000000.0', '42.11', '']\n"
     ]
    }
   ],
   "source": [
    "import csv\n",
    "with open('census_cost.csv', 'r') as file: # read csv file which we created to see\n",
    "    reader = csv.reader(file)\n",
    "    for row in reader:\n",
    "         print(row)"
   ]
  },
  {
   "cell_type": "code",
   "execution_count": null,
   "metadata": {},
   "outputs": [],
   "source": []
  }
 ],
 "metadata": {
  "colab": {
   "collapsed_sections": [],
   "name": "Untitled1.ipynb",
   "provenance": []
  },
  "kernelspec": {
   "display_name": "Python 3",
   "language": "python",
   "name": "python3"
  },
  "language_info": {
   "codemirror_mode": {
    "name": "ipython",
    "version": 3
   },
   "file_extension": ".py",
   "mimetype": "text/x-python",
   "name": "python",
   "nbconvert_exporter": "python",
   "pygments_lexer": "ipython3",
   "version": "3.8.5"
  }
 },
 "nbformat": 4,
 "nbformat_minor": 1
}
