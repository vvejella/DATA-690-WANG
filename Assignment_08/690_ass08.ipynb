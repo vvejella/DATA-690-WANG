{
  "cells": [
    {
      "cell_type": "markdown",
      "source": "Assignment 8\nFor this assignment , we will use the college scorecard dataset.\n\nYou are required to use deepnote.com\nYou will upload the zip file (300 some MB) to deepnote or use Linux Terminal command line wget command.\nYou will unzip the file using Linux Terminal unzip command.\nFor visualization, you can use Matplotlib, Seaborn, or Plotly Express",
      "metadata": {
        "tags": [],
        "cell_id": "00001-1df85db4-9d1f-4fc5-bf91-aa831fb14cf8",
        "deepnote_cell_type": "markdown"
      }
    },
    {
      "cell_type": "code",
      "metadata": {
        "tags": [],
        "cell_id": "00000-5f775cf7-3cfb-4ea4-980d-ccfa5f93cfe1",
        "deepnote_to_be_reexecuted": false,
        "source_hash": "62256f26",
        "execution_millis": 1,
        "execution_start": 1618802135044,
        "deepnote_cell_type": "code"
      },
      "source": "# 1 - Import necessary libraries\nimport os\nimport pandas as pd\nimport random",
      "execution_count": 1,
      "outputs": []
    },
    {
      "cell_type": "code",
      "metadata": {
        "tags": [],
        "cell_id": "00001-f447ac97-6e47-4db8-a671-8dd6451bd32d",
        "deepnote_to_be_reexecuted": false,
        "source_hash": "6b631ada",
        "execution_millis": 2,
        "execution_start": 1618802138089,
        "deepnote_cell_type": "code"
      },
      "source": "currfold = os.getcwd()\nprint(currfold)",
      "execution_count": 3,
      "outputs": [
        {
          "name": "stdout",
          "text": "/work\n",
          "output_type": "stream"
        }
      ]
    },
    {
      "cell_type": "code",
      "metadata": {
        "tags": [],
        "cell_id": "00002-700a20a8-4056-4085-99f5-77a03c1c0877",
        "deepnote_to_be_reexecuted": false,
        "source_hash": "18f600a3",
        "execution_millis": 29,
        "execution_start": 1618802140324,
        "deepnote_cell_type": "code"
      },
      "source": "file_list = os.listdir()\nfile_list",
      "execution_count": 4,
      "outputs": [
        {
          "output_type": "execute_result",
          "execution_count": 4,
          "data": {
            "text/plain": "['init.ipynb', '.deepnote', 'data', 'notebook.ipynb']"
          },
          "metadata": {}
        }
      ]
    },
    {
      "cell_type": "code",
      "metadata": {
        "tags": [],
        "cell_id": "00003-9dadb900-d7e7-4440-8059-510cb3f2410d",
        "deepnote_to_be_reexecuted": false,
        "source_hash": "52961069",
        "execution_millis": 9,
        "execution_start": 1618802144635,
        "deepnote_cell_type": "code"
      },
      "source": "# 2 - Retrieve the names of the 22 files and assign them to a List variable\n# You would need to filter out other files\n# Display the names of these 22 files\nfile_list = os.listdir(\"./data/input/\")\nfile_list",
      "execution_count": 5,
      "outputs": [
        {
          "output_type": "execute_result",
          "execution_count": 5,
          "data": {
            "text/plain": "['MERGED2005_06_PP.csv',\n 'FieldOfStudyData1516_1617_PP.csv',\n 'MERGED2003_04_PP.csv',\n 'MERGED2010_11_PP.csv',\n 'MERGED1998_99_PP.csv',\n 'MERGED2012_13_PP.csv',\n 'FieldOfStudyData1617_1718_PP.csv',\n 'FieldOfStudyData1415_1516_PP.csv',\n 'MERGED1999_00_PP.csv',\n 'MERGED2016_17_PP.csv',\n 'MERGED2008_09_PP.csv',\n 'MERGED2009_10_PP.csv',\n 'MERGED2001_02_PP.csv',\n 'MERGED2017_18_PP.csv',\n 'MERGED2014_15_PP.csv',\n 'MERGED2015_16_PP.csv',\n 'MERGED2013_14_PP.csv',\n 'MERGED1996_97_PP.csv',\n 'MERGED2000_01_PP.csv',\n 'Crosswalks.zip',\n 'MERGED2002_03_PP.csv',\n 'Most-Recent-Cohorts-All-Data-Elements.csv',\n 'MERGED1997_98_PP.csv',\n 'MERGED2006_07_PP.csv',\n 'MERGED2018_19_PP.csv',\n 'data.yaml',\n 'MERGED2011_12_PP.csv',\n 'MERGED2007_08_PP.csv',\n 'Most-Recent-Cohorts-Field-of-Study.csv',\n 'MERGED2004_05_PP.csv']"
          },
          "metadata": {}
        }
      ]
    },
    {
      "cell_type": "code",
      "metadata": {
        "tags": [],
        "cell_id": "00004-7e2761df-a269-46a0-8928-dfa72dddba8e",
        "deepnote_to_be_reexecuted": false,
        "source_hash": "d3595b45",
        "execution_millis": 6,
        "execution_start": 1618802151065,
        "deepnote_cell_type": "code"
      },
      "source": "# 3 - Write code to randomly select one file name out of the 22 files names. \n# Hint: generate a random integer between 0 and 21 first\n# Display the file name\nrandfile = random.randint(0,21)\nfile = (file_list[randfile])\nprint(file)",
      "execution_count": 6,
      "outputs": [
        {
          "name": "stdout",
          "text": "MERGED2005_06_PP.csv\n",
          "output_type": "stream"
        }
      ]
    },
    {
      "cell_type": "code",
      "metadata": {
        "tags": [],
        "cell_id": "00005-139f8154-3662-4d54-a585-e913557c53e4",
        "deepnote_to_be_reexecuted": false,
        "source_hash": "33a86cd0",
        "execution_millis": 1220,
        "execution_start": 1618802153989,
        "deepnote_cell_type": "code"
      },
      "source": "# 4 - Only read the two columns: college name (INSTNM) and in state tution (\"TUITIONFEE_IN\")\n# from this file into a data frame aand display use info() function to display a summary information\ndf = pd.read_csv(\"./data/input/\"+str(file),usecols=[\"TUITIONFEE_IN\",\"INSTNM\"])\ndf.head()",
      "execution_count": 7,
      "outputs": [
        {
          "output_type": "execute_result",
          "execution_count": 7,
          "data": {
            "application/vnd.deepnote.dataframe.v2+json": {
              "row_count": 5,
              "column_count": 2,
              "columns": [
                {
                  "name": "INSTNM",
                  "dtype": "object",
                  "stats": {
                    "unique_count": 5,
                    "nan_count": 0,
                    "categories": [
                      {
                        "name": "Community College of the Air Force",
                        "count": 1
                      },
                      {
                        "name": "Alabama A & M University",
                        "count": 1
                      },
                      {
                        "name": "3 others",
                        "count": 3
                      }
                    ]
                  }
                },
                {
                  "name": "TUITIONFEE_IN",
                  "dtype": "float64",
                  "stats": {
                    "unique_count": 4,
                    "nan_count": 1,
                    "min": "4420.0",
                    "max": "10400.0",
                    "histogram": [
                      {
                        "bin_start": 4420,
                        "bin_end": 5018,
                        "count": 3
                      },
                      {
                        "bin_start": 5018,
                        "bin_end": 5616,
                        "count": 0
                      },
                      {
                        "bin_start": 5616,
                        "bin_end": 6214,
                        "count": 0
                      },
                      {
                        "bin_start": 6214,
                        "bin_end": 6812,
                        "count": 0
                      },
                      {
                        "bin_start": 6812,
                        "bin_end": 7410,
                        "count": 0
                      },
                      {
                        "bin_start": 7410,
                        "bin_end": 8008,
                        "count": 0
                      },
                      {
                        "bin_start": 8008,
                        "bin_end": 8606,
                        "count": 0
                      },
                      {
                        "bin_start": 8606,
                        "bin_end": 9204,
                        "count": 0
                      },
                      {
                        "bin_start": 9204,
                        "bin_end": 9802,
                        "count": 0
                      },
                      {
                        "bin_start": 9802,
                        "bin_end": 10400,
                        "count": 1
                      }
                    ]
                  }
                },
                {
                  "name": "_deepnote_index_column",
                  "dtype": "int64"
                }
              ],
              "rows_top": [
                {
                  "INSTNM": "Community College of the Air Force",
                  "TUITIONFEE_IN": "nan",
                  "_deepnote_index_column": 0
                },
                {
                  "INSTNM": "Alabama A & M University",
                  "TUITIONFEE_IN": "4420.0",
                  "_deepnote_index_column": 1
                },
                {
                  "INSTNM": "University of Alabama at Birmingham",
                  "TUITIONFEE_IN": "4792.0",
                  "_deepnote_index_column": 2
                },
                {
                  "INSTNM": "Amridge University",
                  "TUITIONFEE_IN": "10400.0",
                  "_deepnote_index_column": 3
                },
                {
                  "INSTNM": "University of Alabama in Huntsville",
                  "TUITIONFEE_IN": "4688.0",
                  "_deepnote_index_column": 4
                }
              ],
              "rows_bottom": null
            },
            "text/plain": "                                INSTNM  TUITIONFEE_IN\n0   Community College of the Air Force            NaN\n1             Alabama A & M University         4420.0\n2  University of Alabama at Birmingham         4792.0\n3                   Amridge University        10400.0\n4  University of Alabama in Huntsville         4688.0",
            "text/html": "<div>\n<style scoped>\n    .dataframe tbody tr th:only-of-type {\n        vertical-align: middle;\n    }\n\n    .dataframe tbody tr th {\n        vertical-align: top;\n    }\n\n    .dataframe thead th {\n        text-align: right;\n    }\n</style>\n<table border=\"1\" class=\"dataframe\">\n  <thead>\n    <tr style=\"text-align: right;\">\n      <th></th>\n      <th>INSTNM</th>\n      <th>TUITIONFEE_IN</th>\n    </tr>\n  </thead>\n  <tbody>\n    <tr>\n      <th>0</th>\n      <td>Community College of the Air Force</td>\n      <td>NaN</td>\n    </tr>\n    <tr>\n      <th>1</th>\n      <td>Alabama A &amp; M University</td>\n      <td>4420.0</td>\n    </tr>\n    <tr>\n      <th>2</th>\n      <td>University of Alabama at Birmingham</td>\n      <td>4792.0</td>\n    </tr>\n    <tr>\n      <th>3</th>\n      <td>Amridge University</td>\n      <td>10400.0</td>\n    </tr>\n    <tr>\n      <th>4</th>\n      <td>University of Alabama in Huntsville</td>\n      <td>4688.0</td>\n    </tr>\n  </tbody>\n</table>\n</div>"
          },
          "metadata": {}
        }
      ]
    },
    {
      "cell_type": "code",
      "metadata": {
        "tags": [],
        "cell_id": "00006-7301a011-1a88-4632-a1f8-82b8a600a008",
        "deepnote_to_be_reexecuted": false,
        "source_hash": "8d79cb79",
        "execution_millis": 17,
        "execution_start": 1618802162652,
        "deepnote_cell_type": "code"
      },
      "source": "# 4 - Only read the two columns: college name (INSTNM) and in state tution (\"TUITIONFEE_IN\")\n# from this file into a data frame aand display use info() function to display a summary information\ndf.info()",
      "execution_count": 8,
      "outputs": [
        {
          "name": "stdout",
          "text": "<class 'pandas.core.frame.DataFrame'>\nRangeIndex: 6899 entries, 0 to 6898\nData columns (total 2 columns):\n #   Column         Non-Null Count  Dtype  \n---  ------         --------------  -----  \n 0   INSTNM         6899 non-null   object \n 1   TUITIONFEE_IN  4173 non-null   float64\ndtypes: float64(1), object(1)\nmemory usage: 107.9+ KB\n",
          "output_type": "stream"
        }
      ]
    },
    {
      "cell_type": "code",
      "metadata": {
        "tags": [],
        "cell_id": "00007-a620ab13-e70d-4f1d-b3b7-994693eaca53",
        "deepnote_to_be_reexecuted": false,
        "source_hash": "adcb113c",
        "execution_millis": 8,
        "execution_start": 1618802167241,
        "deepnote_cell_type": "code"
      },
      "source": "# 5 - Find out how many observations have missing value.\ndf.isnull().sum()",
      "execution_count": 9,
      "outputs": [
        {
          "output_type": "execute_result",
          "execution_count": 9,
          "data": {
            "text/plain": "INSTNM              0\nTUITIONFEE_IN    2726\ndtype: int64"
          },
          "metadata": {}
        }
      ]
    },
    {
      "cell_type": "code",
      "metadata": {
        "tags": [],
        "cell_id": "00008-7f223341-de81-4cae-ac8b-bf96807fccc1",
        "deepnote_to_be_reexecuted": false,
        "source_hash": "5f405fc4",
        "execution_millis": 49,
        "execution_start": 1618802171012,
        "deepnote_cell_type": "code"
      },
      "source": "# 6 - Drop those observations with missing value\n# Disaply the number of observations afterward\ndf = df.dropna()\ndf",
      "execution_count": 10,
      "outputs": [
        {
          "output_type": "execute_result",
          "execution_count": 10,
          "data": {
            "application/vnd.deepnote.dataframe.v2+json": {
              "row_count": 4173,
              "column_count": 2,
              "columns": [
                {
                  "name": "INSTNM",
                  "dtype": "object",
                  "stats": {
                    "unique_count": 4104,
                    "nan_count": 0,
                    "categories": [
                      {
                        "name": "McCann School of Business & Technology",
                        "count": 4
                      },
                      {
                        "name": "American InterContinental University",
                        "count": 3
                      },
                      {
                        "name": "4102 others",
                        "count": 4166
                      }
                    ]
                  }
                },
                {
                  "name": "TUITIONFEE_IN",
                  "dtype": "float64",
                  "stats": {
                    "unique_count": 2677,
                    "nan_count": 0,
                    "min": "0.0",
                    "max": "55550.0",
                    "histogram": [
                      {
                        "bin_start": 0,
                        "bin_end": 5555,
                        "count": 1716
                      },
                      {
                        "bin_start": 5555,
                        "bin_end": 11110,
                        "count": 982
                      },
                      {
                        "bin_start": 11110,
                        "bin_end": 16665,
                        "count": 710
                      },
                      {
                        "bin_start": 16665,
                        "bin_end": 22220,
                        "count": 432
                      },
                      {
                        "bin_start": 22220,
                        "bin_end": 27775,
                        "count": 194
                      },
                      {
                        "bin_start": 27775,
                        "bin_end": 33330,
                        "count": 123
                      },
                      {
                        "bin_start": 33330,
                        "bin_end": 38885,
                        "count": 12
                      },
                      {
                        "bin_start": 38885,
                        "bin_end": 44440,
                        "count": 3
                      },
                      {
                        "bin_start": 44440,
                        "bin_end": 49995,
                        "count": 0
                      },
                      {
                        "bin_start": 49995,
                        "bin_end": 55550,
                        "count": 1
                      }
                    ]
                  }
                },
                {
                  "name": "_deepnote_index_column",
                  "dtype": "int64"
                }
              ],
              "rows_top": [
                {
                  "INSTNM": "Alabama A & M University",
                  "TUITIONFEE_IN": 4420,
                  "_deepnote_index_column": 1
                },
                {
                  "INSTNM": "University of Alabama at Birmingham",
                  "TUITIONFEE_IN": 4792,
                  "_deepnote_index_column": 2
                },
                {
                  "INSTNM": "Amridge University",
                  "TUITIONFEE_IN": 10400,
                  "_deepnote_index_column": 3
                },
                {
                  "INSTNM": "University of Alabama in Huntsville",
                  "TUITIONFEE_IN": 4688,
                  "_deepnote_index_column": 4
                },
                {
                  "INSTNM": "Alabama State University",
                  "TUITIONFEE_IN": 4008,
                  "_deepnote_index_column": 5
                },
                {
                  "INSTNM": "The University of Alabama",
                  "TUITIONFEE_IN": 4864,
                  "_deepnote_index_column": 6
                },
                {
                  "INSTNM": "Central Alabama Community College",
                  "TUITIONFEE_IN": 2340,
                  "_deepnote_index_column": 7
                },
                {
                  "INSTNM": "Auburn University at Montgomery",
                  "TUITIONFEE_IN": 4640,
                  "_deepnote_index_column": 9
                },
                {
                  "INSTNM": "Auburn University",
                  "TUITIONFEE_IN": 5278,
                  "_deepnote_index_column": 10
                },
                {
                  "INSTNM": "Lawson State Community College-Bessemer Campus",
                  "TUITIONFEE_IN": 2700,
                  "_deepnote_index_column": 11
                },
                {
                  "INSTNM": "Birmingham-Southern College",
                  "TUITIONFEE_IN": 20810,
                  "_deepnote_index_column": 12
                },
                {
                  "INSTNM": "Chattahoochee Valley Community College",
                  "TUITIONFEE_IN": 2700,
                  "_deepnote_index_column": 13
                },
                {
                  "INSTNM": "Concordia College Alabama",
                  "TUITIONFEE_IN": 6104,
                  "_deepnote_index_column": 14
                },
                {
                  "INSTNM": "South University-Montgomery",
                  "TUITIONFEE_IN": 11475,
                  "_deepnote_index_column": 15
                },
                {
                  "INSTNM": "Enterprise State Community College",
                  "TUITIONFEE_IN": 2520,
                  "_deepnote_index_column": 16
                },
                {
                  "INSTNM": "Coastal Alabama Community College",
                  "TUITIONFEE_IN": 2790,
                  "_deepnote_index_column": 17
                },
                {
                  "INSTNM": "Faulkner University",
                  "TUITIONFEE_IN": 10500,
                  "_deepnote_index_column": 18
                },
                {
                  "INSTNM": "Gadsden State Community College",
                  "TUITIONFEE_IN": 2700,
                  "_deepnote_index_column": 20
                },
                {
                  "INSTNM": "George C Wallace Community College-Dothan",
                  "TUITIONFEE_IN": 2700,
                  "_deepnote_index_column": 21
                },
                {
                  "INSTNM": "George C Wallace State Community College-Hanceville",
                  "TUITIONFEE_IN": 2700,
                  "_deepnote_index_column": 22
                },
                {
                  "INSTNM": "George C Wallace State Community College-Selma",
                  "TUITIONFEE_IN": 2700,
                  "_deepnote_index_column": 23
                },
                {
                  "INSTNM": "Herzing University-Birmingham",
                  "TUITIONFEE_IN": 8640,
                  "_deepnote_index_column": 24
                },
                {
                  "INSTNM": "Huntingdon College",
                  "TUITIONFEE_IN": 15950,
                  "_deepnote_index_column": 25
                },
                {
                  "INSTNM": "Heritage Christian University",
                  "TUITIONFEE_IN": 7152,
                  "_deepnote_index_column": 26
                },
                {
                  "INSTNM": "J. F. Drake State Community and Technical College",
                  "TUITIONFEE_IN": 2700,
                  "_deepnote_index_column": 27
                },
                {
                  "INSTNM": "J F Ingram State Technical College",
                  "TUITIONFEE_IN": 2130,
                  "_deepnote_index_column": 28
                },
                {
                  "INSTNM": "Jacksonville State University",
                  "TUITIONFEE_IN": 4040,
                  "_deepnote_index_column": 29
                },
                {
                  "INSTNM": "Jefferson Davis Community College",
                  "TUITIONFEE_IN": 2708,
                  "_deepnote_index_column": 30
                },
                {
                  "INSTNM": "Jefferson State Community College",
                  "TUITIONFEE_IN": 2448,
                  "_deepnote_index_column": 31
                },
                {
                  "INSTNM": "John C Calhoun State Community College",
                  "TUITIONFEE_IN": 2850,
                  "_deepnote_index_column": 32
                },
                {
                  "INSTNM": "Judson College",
                  "TUITIONFEE_IN": 9434,
                  "_deepnote_index_column": 33
                },
                {
                  "INSTNM": "Lawson State Community College",
                  "TUITIONFEE_IN": 2700,
                  "_deepnote_index_column": 34
                },
                {
                  "INSTNM": "University of West Alabama",
                  "TUITIONFEE_IN": 4308,
                  "_deepnote_index_column": 35
                },
                {
                  "INSTNM": "Lurleen B Wallace Community College",
                  "TUITIONFEE_IN": 2700,
                  "_deepnote_index_column": 36
                },
                {
                  "INSTNM": "Marion Military Institute",
                  "TUITIONFEE_IN": 12120,
                  "_deepnote_index_column": 37
                },
                {
                  "INSTNM": "Miles College",
                  "TUITIONFEE_IN": 5826,
                  "_deepnote_index_column": 38
                },
                {
                  "INSTNM": "University of Mobile",
                  "TUITIONFEE_IN": 10490,
                  "_deepnote_index_column": 39
                },
                {
                  "INSTNM": "University of Montevallo",
                  "TUITIONFEE_IN": 5394,
                  "_deepnote_index_column": 40
                },
                {
                  "INSTNM": "Northwest-Shoals Community College",
                  "TUITIONFEE_IN": 2880,
                  "_deepnote_index_column": 41
                },
                {
                  "INSTNM": "University of North Alabama",
                  "TUITIONFEE_IN": 4366,
                  "_deepnote_index_column": 42
                },
                {
                  "INSTNM": "Northeast Alabama Community College",
                  "TUITIONFEE_IN": 2700,
                  "_deepnote_index_column": 43
                },
                {
                  "INSTNM": "Oakwood University",
                  "TUITIONFEE_IN": 11714,
                  "_deepnote_index_column": 44
                },
                {
                  "INSTNM": "Alabama Southern Community College",
                  "TUITIONFEE_IN": 2700,
                  "_deepnote_index_column": 45
                },
                {
                  "INSTNM": "Prince Institute-Southeast",
                  "TUITIONFEE_IN": 6336,
                  "_deepnote_index_column": 46
                },
                {
                  "INSTNM": "Reid State Technical College",
                  "TUITIONFEE_IN": 2700,
                  "_deepnote_index_column": 47
                },
                {
                  "INSTNM": "Bishop State Community College",
                  "TUITIONFEE_IN": 2160,
                  "_deepnote_index_column": 48
                },
                {
                  "INSTNM": "Samford University",
                  "TUITIONFEE_IN": 14642,
                  "_deepnote_index_column": 49
                },
                {
                  "INSTNM": "Shelton State Community College",
                  "TUITIONFEE_IN": 2720,
                  "_deepnote_index_column": 50
                },
                {
                  "INSTNM": "Snead State Community College",
                  "TUITIONFEE_IN": 2820,
                  "_deepnote_index_column": 51
                },
                {
                  "INSTNM": "University of South Alabama",
                  "TUITIONFEE_IN": 4502,
                  "_deepnote_index_column": 52
                },
                {
                  "INSTNM": "Southern Community College",
                  "TUITIONFEE_IN": 5250,
                  "_deepnote_index_column": 53
                },
                {
                  "INSTNM": "Spring Hill College",
                  "TUITIONFEE_IN": 20948,
                  "_deepnote_index_column": 54
                },
                {
                  "INSTNM": "Southeastern Bible College",
                  "TUITIONFEE_IN": 8850,
                  "_deepnote_index_column": 55
                },
                {
                  "INSTNM": "Stillman College",
                  "TUITIONFEE_IN": 11660,
                  "_deepnote_index_column": 56
                },
                {
                  "INSTNM": "Talladega College",
                  "TUITIONFEE_IN": 7128,
                  "_deepnote_index_column": 57
                },
                {
                  "INSTNM": "H Councill Trenholm State Community College",
                  "TUITIONFEE_IN": 2700,
                  "_deepnote_index_column": 58
                },
                {
                  "INSTNM": "Troy University",
                  "TUITIONFEE_IN": 4104,
                  "_deepnote_index_column": 59
                },
                {
                  "INSTNM": "Tuskegee University",
                  "TUITIONFEE_IN": 11990,
                  "_deepnote_index_column": 60
                },
                {
                  "INSTNM": "Bevill State Community College",
                  "TUITIONFEE_IN": 2910,
                  "_deepnote_index_column": 62
                },
                {
                  "INSTNM": "University of Alaska Anchorage",
                  "TUITIONFEE_IN": 3794,
                  "_deepnote_index_column": 63
                },
                {
                  "INSTNM": "University of Alaska Fairbanks",
                  "TUITIONFEE_IN": 3946,
                  "_deepnote_index_column": 64
                },
                {
                  "INSTNM": "University of Alaska Southeast",
                  "TUITIONFEE_IN": 3858,
                  "_deepnote_index_column": 65
                },
                {
                  "INSTNM": "Alaska Pacific University",
                  "TUITIONFEE_IN": 18342,
                  "_deepnote_index_column": 66
                },
                {
                  "INSTNM": "Charter College",
                  "TUITIONFEE_IN": 12500,
                  "_deepnote_index_column": 68
                },
                {
                  "INSTNM": "Prince William Sound Community College",
                  "TUITIONFEE_IN": 2988,
                  "_deepnote_index_column": 69
                },
                {
                  "INSTNM": "Sheldon Jackson College",
                  "TUITIONFEE_IN": 10900,
                  "_deepnote_index_column": 70
                },
                {
                  "INSTNM": "Everest College-Phoenix",
                  "TUITIONFEE_IN": 12432,
                  "_deepnote_index_column": 72
                },
                {
                  "INSTNM": "Collins College",
                  "TUITIONFEE_IN": 55550,
                  "_deepnote_index_column": 73
                },
                {
                  "INSTNM": "American Indian College Inc",
                  "TUITIONFEE_IN": 5595,
                  "_deepnote_index_column": 77
                },
                {
                  "INSTNM": "Platt College-Arizona Automotive Institute Arizona",
                  "TUITIONFEE_IN": 18289,
                  "_deepnote_index_column": 82
                },
                {
                  "INSTNM": "Brookline College-Phoenix",
                  "TUITIONFEE_IN": 9900,
                  "_deepnote_index_column": 83
                },
                {
                  "INSTNM": "Arizona State University-Tempe",
                  "TUITIONFEE_IN": 4406,
                  "_deepnote_index_column": 84
                },
                {
                  "INSTNM": "Arizona Western College",
                  "TUITIONFEE_IN": 1140,
                  "_deepnote_index_column": 85
                },
                {
                  "INSTNM": "University of Arizona",
                  "TUITIONFEE_IN": 4498,
                  "_deepnote_index_column": 86
                },
                {
                  "INSTNM": "Southwest University of Visual Arts-Tucson",
                  "TUITIONFEE_IN": 17064,
                  "_deepnote_index_column": 87
                },
                {
                  "INSTNM": "Central Arizona College",
                  "TUITIONFEE_IN": 1332,
                  "_deepnote_index_column": 89
                },
                {
                  "INSTNM": "Brown Mackie College-Tucson",
                  "TUITIONFEE_IN": 10320,
                  "_deepnote_index_column": 90
                },
                {
                  "INSTNM": "Cochise County Community College District",
                  "TUITIONFEE_IN": 1178,
                  "_deepnote_index_column": 92
                },
                {
                  "INSTNM": "DeVry University-Arizona",
                  "TUITIONFEE_IN": 12100,
                  "_deepnote_index_column": 97
                },
                {
                  "INSTNM": "Eastern Arizona College",
                  "TUITIONFEE_IN": 1128,
                  "_deepnote_index_column": 99
                },
                {
                  "INSTNM": "Embry-Riddle Aeronautical University-Prescott",
                  "TUITIONFEE_IN": 23550,
                  "_deepnote_index_column": 100
                },
                {
                  "INSTNM": "Glendale Community College",
                  "TUITIONFEE_IN": 1450,
                  "_deepnote_index_column": 101
                },
                {
                  "INSTNM": "Grand Canyon University",
                  "TUITIONFEE_IN": 9750,
                  "_deepnote_index_column": 102
                },
                {
                  "INSTNM": "Lamson College",
                  "TUITIONFEE_IN": 12600,
                  "_deepnote_index_column": 105
                },
                {
                  "INSTNM": "GateWay Community College",
                  "TUITIONFEE_IN": 1450,
                  "_deepnote_index_column": 108
                },
                {
                  "INSTNM": "Mesa Community College",
                  "TUITIONFEE_IN": 1450,
                  "_deepnote_index_column": 109
                },
                {
                  "INSTNM": "ITT Technical Institute-Tucson",
                  "TUITIONFEE_IN": 14196,
                  "_deepnote_index_column": 110
                },
                {
                  "INSTNM": "ITT Technical Institute-Tempe",
                  "TUITIONFEE_IN": 14196,
                  "_deepnote_index_column": 111
                },
                {
                  "INSTNM": "Mohave Community College",
                  "TUITIONFEE_IN": 1380,
                  "_deepnote_index_column": 112
                },
                {
                  "INSTNM": "Dine College",
                  "TUITIONFEE_IN": 850,
                  "_deepnote_index_column": 115
                },
                {
                  "INSTNM": "Northern Arizona University",
                  "TUITIONFEE_IN": 4393,
                  "_deepnote_index_column": 116
                },
                {
                  "INSTNM": "Northland Pioneer College",
                  "TUITIONFEE_IN": 1008,
                  "_deepnote_index_column": 117
                },
                {
                  "INSTNM": "Phoenix College",
                  "TUITIONFEE_IN": 1450,
                  "_deepnote_index_column": 120
                },
                {
                  "INSTNM": "University of Phoenix-Phoenix Campus",
                  "TUITIONFEE_IN": 9765,
                  "_deepnote_index_column": 122
                },
                {
                  "INSTNM": "Pima Community College",
                  "TUITIONFEE_IN": 1136,
                  "_deepnote_index_column": 123
                },
                {
                  "INSTNM": "Prescott College",
                  "TUITIONFEE_IN": 17280,
                  "_deepnote_index_column": 126
                },
                {
                  "INSTNM": "Rio Salado College",
                  "TUITIONFEE_IN": 1450,
                  "_deepnote_index_column": 128
                },
                {
                  "INSTNM": "Scottsdale Community College",
                  "TUITIONFEE_IN": 1450,
                  "_deepnote_index_column": 131
                },
                {
                  "INSTNM": "South Mountain Community College",
                  "TUITIONFEE_IN": 1450,
                  "_deepnote_index_column": 132
                },
                {
                  "INSTNM": "Arizona Christian University",
                  "TUITIONFEE_IN": 11130,
                  "_deepnote_index_column": 134
                },
                {
                  "INSTNM": "Metropolitan College",
                  "TUITIONFEE_IN": 6534,
                  "_deepnote_index_column": 137
                },
                {
                  "INSTNM": "Western International University",
                  "TUITIONFEE_IN": 9540,
                  "_deepnote_index_column": 138
                },
                {
                  "INSTNM": "Yavapai College",
                  "TUITIONFEE_IN": 1056,
                  "_deepnote_index_column": 140
                },
                {
                  "INSTNM": "University of Arkansas at Little Rock",
                  "TUITIONFEE_IN": 3994,
                  "_deepnote_index_column": 141
                },
                {
                  "INSTNM": "Arkansas Baptist College",
                  "TUITIONFEE_IN": 4710,
                  "_deepnote_index_column": 144
                },
                {
                  "INSTNM": "Lyon College",
                  "TUITIONFEE_IN": 13905,
                  "_deepnote_index_column": 146
                },
                {
                  "INSTNM": "University of Arkansas",
                  "TUITIONFEE_IN": 5495,
                  "_deepnote_index_column": 149
                },
                {
                  "INSTNM": "University of Arkansas at Pine Bluff",
                  "TUITIONFEE_IN": 4254,
                  "_deepnote_index_column": 150
                },
                {
                  "INSTNM": "Arkansas State University-Beebe",
                  "TUITIONFEE_IN": 1824,
                  "_deepnote_index_column": 151
                },
                {
                  "INSTNM": "Arkansas State University-Main Campus",
                  "TUITIONFEE_IN": 5440,
                  "_deepnote_index_column": 152
                },
                {
                  "INSTNM": "Arkansas Tech University",
                  "TUITIONFEE_IN": 3432,
                  "_deepnote_index_column": 153
                },
                {
                  "INSTNM": "University of Arkansas at Monticello",
                  "TUITIONFEE_IN": 3910,
                  "_deepnote_index_column": 154
                },
                {
                  "INSTNM": "Black River Technical College",
                  "TUITIONFEE_IN": 1320,
                  "_deepnote_index_column": 158
                },
                {
                  "INSTNM": "University of Central Arkansas",
                  "TUITIONFEE_IN": 5664,
                  "_deepnote_index_column": 159
                },
                {
                  "INSTNM": "Central Baptist College",
                  "TUITIONFEE_IN": 7950,
                  "_deepnote_index_column": 160
                },
                {
                  "INSTNM": "Cossatot Community College of the University of Arkansas",
                  "TUITIONFEE_IN": 1626,
                  "_deepnote_index_column": 162
                },
                {
                  "INSTNM": "Crowley's Ridge College",
                  "TUITIONFEE_IN": 7160,
                  "_deepnote_index_column": 163
                },
                {
                  "INSTNM": "Crowley's Ridge Technical Institute",
                  "TUITIONFEE_IN": 1050,
                  "_deepnote_index_column": 164
                },
                {
                  "INSTNM": "East Arkansas Community College",
                  "TUITIONFEE_IN": 1620,
                  "_deepnote_index_column": 166
                },
                {
                  "INSTNM": "National Park College",
                  "TUITIONFEE_IN": 1230,
                  "_deepnote_index_column": 169
                },
                {
                  "INSTNM": "University of Arkansas Community College-Batesville",
                  "TUITIONFEE_IN": 1474,
                  "_deepnote_index_column": 170
                },
                {
                  "INSTNM": "Harding University",
                  "TUITIONFEE_IN": 10800,
                  "_deepnote_index_column": 172
                },
                {
                  "INSTNM": "Henderson State University",
                  "TUITIONFEE_IN": 4744,
                  "_deepnote_index_column": 173
                },
                {
                  "INSTNM": "Hendrix College",
                  "TUITIONFEE_IN": 21636,
                  "_deepnote_index_column": 174
                },
                {
                  "INSTNM": "John Brown University",
                  "TUITIONFEE_IN": 14544,
                  "_deepnote_index_column": 177
                },
                {
                  "INSTNM": "Arkansas State University Mid-South",
                  "TUITIONFEE_IN": 1296,
                  "_deepnote_index_column": 182
                },
                {
                  "INSTNM": "Arkansas Northeastern College",
                  "TUITIONFEE_IN": 1524,
                  "_deepnote_index_column": 183
                },
                {
                  "INSTNM": "North Arkansas College",
                  "TUITIONFEE_IN": 1590,
                  "_deepnote_index_column": 186
                },
                {
                  "INSTNM": "Northwest Technical Institute",
                  "TUITIONFEE_IN": 2225,
                  "_deepnote_index_column": 187
                },
                {
                  "INSTNM": "Ouachita Baptist University",
                  "TUITIONFEE_IN": 15580,
                  "_deepnote_index_column": 188
                },
                {
                  "INSTNM": "Arkansas State University Three Rivers",
                  "TUITIONFEE_IN": 1920,
                  "_deepnote_index_column": 189
                },
                {
                  "INSTNM": "Ozarka College",
                  "TUITIONFEE_IN": 2310,
                  "_deepnote_index_column": 190
                },
                {
                  "INSTNM": "University of the Ozarks",
                  "TUITIONFEE_IN": 14170,
                  "_deepnote_index_column": 191
                },
                {
                  "INSTNM": "University of Arkansas Community College-Morrilton",
                  "TUITIONFEE_IN": 2168,
                  "_deepnote_index_column": 192
                },
                {
                  "INSTNM": "Philander Smith College",
                  "TUITIONFEE_IN": 7822,
                  "_deepnote_index_column": 193
                },
                {
                  "INSTNM": "Phillips Community College of the University of Arkansas",
                  "TUITIONFEE_IN": 1760,
                  "_deepnote_index_column": 194
                },
                {
                  "INSTNM": "Southeast Arkansas College",
                  "TUITIONFEE_IN": 1660,
                  "_deepnote_index_column": 195
                },
                {
                  "INSTNM": "University of Arkansas-Pulaski Technical College",
                  "TUITIONFEE_IN": 2720,
                  "_deepnote_index_column": 197
                },
                {
                  "INSTNM": "University of Arkansas Hope-Texarkana",
                  "TUITIONFEE_IN": 1738,
                  "_deepnote_index_column": 198
                },
                {
                  "INSTNM": "University of Arkansas Community College Rich Mountain",
                  "TUITIONFEE_IN": 1056,
                  "_deepnote_index_column": 199
                },
                {
                  "INSTNM": "Williams Baptist University",
                  "TUITIONFEE_IN": 9250,
                  "_deepnote_index_column": 202
                },
                {
                  "INSTNM": "South Arkansas Community College",
                  "TUITIONFEE_IN": 1528,
                  "_deepnote_index_column": 203
                },
                {
                  "INSTNM": "Southern Arkansas University Main Campus",
                  "TUITIONFEE_IN": 4290,
                  "_deepnote_index_column": 204
                },
                {
                  "INSTNM": "Southern Arkansas University Tech",
                  "TUITIONFEE_IN": 2106,
                  "_deepnote_index_column": 205
                },
                {
                  "INSTNM": "University of Arkansas-Fort Smith",
                  "TUITIONFEE_IN": 2830,
                  "_deepnote_index_column": 207
                },
                {
                  "INSTNM": "Academy of Art University",
                  "TUITIONFEE_IN": 14480,
                  "_deepnote_index_column": 209
                },
                {
                  "INSTNM": "ITT Technical Institute-Rancho Cordova",
                  "TUITIONFEE_IN": 14196,
                  "_deepnote_index_column": 210
                },
                {
                  "INSTNM": "College of Alameda",
                  "TUITIONFEE_IN": 732,
                  "_deepnote_index_column": 216
                },
                {
                  "INSTNM": "Allan Hancock College",
                  "TUITIONFEE_IN": 754,
                  "_deepnote_index_column": 217
                },
                {
                  "INSTNM": "American Academy of Dramatic Arts-Los Angeles",
                  "TUITIONFEE_IN": 16000,
                  "_deepnote_index_column": 218
                },
                {
                  "INSTNM": "American InterContinental University",
                  "TUITIONFEE_IN": 21000,
                  "_deepnote_index_column": 222
                },
                {
                  "INSTNM": "American River College",
                  "TUITIONFEE_IN": 758,
                  "_deepnote_index_column": 225
                },
                {
                  "INSTNM": "Antelope Valley College",
                  "TUITIONFEE_IN": 780,
                  "_deepnote_index_column": 227
                },
                {
                  "INSTNM": "Art Center College of Design",
                  "TUITIONFEE_IN": 25244,
                  "_deepnote_index_column": 228
                },
                {
                  "INSTNM": "Azusa Pacific University",
                  "TUITIONFEE_IN": 21550,
                  "_deepnote_index_column": 231
                },
                {
                  "INSTNM": "Bakersfield College",
                  "TUITIONFEE_IN": 764,
                  "_deepnote_index_column": 232
                },
                {
                  "INSTNM": "Barstow Community College",
                  "TUITIONFEE_IN": 624,
                  "_deepnote_index_column": 233
                },
                {
                  "INSTNM": "Bethany University",
                  "TUITIONFEE_IN": 15310,
                  "_deepnote_index_column": 235
                },
                {
                  "INSTNM": "Bethesda University",
                  "TUITIONFEE_IN": 6300,
                  "_deepnote_index_column": 236
                },
                {
                  "INSTNM": "Biola University",
                  "TUITIONFEE_IN": 22602,
                  "_deepnote_index_column": 237
                },
                {
                  "INSTNM": "Brooks College",
                  "TUITIONFEE_IN": 15000,
                  "_deepnote_index_column": 238
                },
                {
                  "INSTNM": "Brooks Institute",
                  "TUITIONFEE_IN": 24360,
                  "_deepnote_index_column": 239
                },
                {
                  "INSTNM": "Bryan University",
                  "TUITIONFEE_IN": 9000,
                  "_deepnote_index_column": 241
                },
                {
                  "INSTNM": "Butte College",
                  "TUITIONFEE_IN": 876,
                  "_deepnote_index_column": 242
                },
                {
                  "INSTNM": "Cabrillo College",
                  "TUITIONFEE_IN": 818,
                  "_deepnote_index_column": 245
                },
                {
                  "INSTNM": "California Baptist University",
                  "TUITIONFEE_IN": 17470,
                  "_deepnote_index_column": 246
                },
                {
                  "INSTNM": "California College of the Arts",
                  "TUITIONFEE_IN": 26100,
                  "_deepnote_index_column": 247
                },
                {
                  "INSTNM": "California Institute of Technology",
                  "TUITIONFEE_IN": 27309,
                  "_deepnote_index_column": 249
                },
                {
                  "INSTNM": "California Lutheran University",
                  "TUITIONFEE_IN": 23370,
                  "_deepnote_index_column": 250
                },
                {
                  "INSTNM": "California Polytechnic State University-San Luis Obispo",
                  "TUITIONFEE_IN": 4245,
                  "_deepnote_index_column": 251
                },
                {
                  "INSTNM": "Alliant International University-San Diego",
                  "TUITIONFEE_IN": 19450,
                  "_deepnote_index_column": 254
                },
                {
                  "INSTNM": "California State University-Bakersfield",
                  "TUITIONFEE_IN": 3318,
                  "_deepnote_index_column": 256
                },
                {
                  "INSTNM": "California State University-Stanislaus",
                  "TUITIONFEE_IN": 3030,
                  "_deepnote_index_column": 257
                },
                {
                  "INSTNM": "California State University-San Bernardino",
                  "TUITIONFEE_IN": 3092,
                  "_deepnote_index_column": 258
                },
                {
                  "INSTNM": "California State Polytechnic University-Pomona",
                  "TUITIONFEE_IN": 3006,
                  "_deepnote_index_column": 259
                },
                {
                  "INSTNM": "California State University-Chico",
                  "TUITIONFEE_IN": 3370,
                  "_deepnote_index_column": 260
                },
                {
                  "INSTNM": "California State University-Dominguez Hills",
                  "TUITIONFEE_IN": 2991,
                  "_deepnote_index_column": 261
                },
                {
                  "INSTNM": "California State University-Fresno",
                  "TUITIONFEE_IN": 2986,
                  "_deepnote_index_column": 262
                },
                {
                  "INSTNM": "California State University-Fullerton",
                  "TUITIONFEE_IN": 2990,
                  "_deepnote_index_column": 263
                },
                {
                  "INSTNM": "California State University-East Bay",
                  "TUITIONFEE_IN": 2916,
                  "_deepnote_index_column": 264
                },
                {
                  "INSTNM": "California State University-Long Beach",
                  "TUITIONFEE_IN": 2864,
                  "_deepnote_index_column": 265
                },
                {
                  "INSTNM": "California State University-Los Angeles",
                  "TUITIONFEE_IN": 3035,
                  "_deepnote_index_column": 266
                },
                {
                  "INSTNM": "California State University-Northridge",
                  "TUITIONFEE_IN": 3036,
                  "_deepnote_index_column": 267
                },
                {
                  "INSTNM": "California State University-Sacramento",
                  "TUITIONFEE_IN": 3072,
                  "_deepnote_index_column": 268
                },
                {
                  "INSTNM": "University of California-Berkeley",
                  "TUITIONFEE_IN": 6512,
                  "_deepnote_index_column": 269
                },
                {
                  "INSTNM": "University of California-Davis",
                  "TUITIONFEE_IN": 7457,
                  "_deepnote_index_column": 270
                },
                {
                  "INSTNM": "University of California-Irvine",
                  "TUITIONFEE_IN": 6770,
                  "_deepnote_index_column": 271
                },
                {
                  "INSTNM": "University of California-Los Angeles",
                  "TUITIONFEE_IN": 6504,
                  "_deepnote_index_column": 272
                },
                {
                  "INSTNM": "University of California-Riverside",
                  "TUITIONFEE_IN": 6590,
                  "_deepnote_index_column": 273
                },
                {
                  "INSTNM": "University of California-San Diego",
                  "TUITIONFEE_IN": 6685,
                  "_deepnote_index_column": 274
                },
                {
                  "INSTNM": "University of California-Santa Barbara",
                  "TUITIONFEE_IN": 6997,
                  "_deepnote_index_column": 276
                },
                {
                  "INSTNM": "University of California-Santa Cruz",
                  "TUITIONFEE_IN": 6949,
                  "_deepnote_index_column": 277
                },
                {
                  "INSTNM": "California Christian College",
                  "TUITIONFEE_IN": 5640,
                  "_deepnote_index_column": 280
                },
                {
                  "INSTNM": "California Institute of the Arts",
                  "TUITIONFEE_IN": 28090,
                  "_deepnote_index_column": 284
                },
                {
                  "INSTNM": "California State University Maritime Academy",
                  "TUITIONFEE_IN": 3446,
                  "_deepnote_index_column": 285
                },
                {
                  "INSTNM": "Canada College",
                  "TUITIONFEE_IN": 652,
                  "_deepnote_index_column": 287
                },
                {
                  "INSTNM": "College of the Canyons",
                  "TUITIONFEE_IN": 766,
                  "_deepnote_index_column": 288
                },
                {
                  "INSTNM": "Cerritos College",
                  "TUITIONFEE_IN": 710,
                  "_deepnote_index_column": 298
                },
                {
                  "INSTNM": "Cerro Coso Community College",
                  "TUITIONFEE_IN": 780,
                  "_deepnote_index_column": 299
                },
                {
                  "INSTNM": "Chabot College",
                  "TUITIONFEE_IN": 754,
                  "_deepnote_index_column": 300
                },
                {
                  "INSTNM": "Chaffey College",
                  "TUITIONFEE_IN": 714,
                  "_deepnote_index_column": 301
                },
                {
                  "INSTNM": "Chapman University",
                  "TUITIONFEE_IN": 28050,
                  "_deepnote_index_column": 302
                },
                {
                  "INSTNM": "Charles R Drew University of Medicine and Science",
                  "TUITIONFEE_IN": 14700,
                  "_deepnote_index_column": 303
                },
                {
                  "INSTNM": "Concordia University-Irvine",
                  "TUITIONFEE_IN": 19300,
                  "_deepnote_index_column": 304
                },
                {
                  "INSTNM": "San Diego Christian College",
                  "TUITIONFEE_IN": 15880,
                  "_deepnote_index_column": 305
                },
                {
                  "INSTNM": "Citrus College",
                  "TUITIONFEE_IN": 754,
                  "_deepnote_index_column": 307
                },
                {
                  "INSTNM": "City College of San Francisco",
                  "TUITIONFEE_IN": 679,
                  "_deepnote_index_column": 308
                },
                {
                  "INSTNM": "Claremont McKenna College",
                  "TUITIONFEE_IN": 30800,
                  "_deepnote_index_column": 310
                },
                {
                  "INSTNM": "Cleveland Chiropractic College of Los Angeles",
                  "TUITIONFEE_IN": 13971,
                  "_deepnote_index_column": 312
                },
                {
                  "INSTNM": "Coastline Community College",
                  "TUITIONFEE_IN": 638,
                  "_deepnote_index_column": 314
                },
                {
                  "INSTNM": "Cogswell College",
                  "TUITIONFEE_IN": 13680,
                  "_deepnote_index_column": 315
                },
                {
                  "INSTNM": "Coleman University",
                  "TUITIONFEE_IN": 20580,
                  "_deepnote_index_column": 316
                },
                {
                  "INSTNM": "Columbia College",
                  "TUITIONFEE_IN": 662,
                  "_deepnote_index_column": 320
                },
                {
                  "INSTNM": "Columbia College Hollywood",
                  "TUITIONFEE_IN": 12750,
                  "_deepnote_index_column": 321
                },
                {
                  "INSTNM": "Compton College",
                  "TUITIONFEE_IN": 728,
                  "_deepnote_index_column": 322
                },
                {
                  "INSTNM": "Contra Costa College",
                  "TUITIONFEE_IN": 722,
                  "_deepnote_index_column": 324
                },
                {
                  "INSTNM": "Cosumnes River College",
                  "TUITIONFEE_IN": 758,
                  "_deepnote_index_column": 325
                },
                {
                  "INSTNM": "Crafton Hills College",
                  "TUITIONFEE_IN": 762,
                  "_deepnote_index_column": 326
                },
                {
                  "INSTNM": "Cuesta College",
                  "TUITIONFEE_IN": 828,
                  "_deepnote_index_column": 327
                },
                {
                  "INSTNM": "Cuyamaca College",
                  "TUITIONFEE_IN": 754,
                  "_deepnote_index_column": 328
                },
                {
                  "INSTNM": "Cypress College",
                  "TUITIONFEE_IN": 650,
                  "_deepnote_index_column": 330
                },
                {
                  "INSTNM": "De Anza College",
                  "TUITIONFEE_IN": 837,
                  "_deepnote_index_column": 331
                },
                {
                  "INSTNM": "Dell'Arte International School of Physical Theatre",
                  "TUITIONFEE_IN": 10400,
                  "_deepnote_index_column": 333
                },
                {
                  "INSTNM": "College of the Desert",
                  "TUITIONFEE_IN": 656,
                  "_deepnote_index_column": 334
                },
                {
                  "INSTNM": "Design Institute of San Diego",
                  "TUITIONFEE_IN": 13200,
                  "_deepnote_index_column": 335
                },
                {
                  "INSTNM": "DeVry University-California",
                  "TUITIONFEE_IN": 12743,
                  "_deepnote_index_column": 336
                },
                {
                  "INSTNM": "Diablo Valley College",
                  "TUITIONFEE_IN": 722,
                  "_deepnote_index_column": 337
                },
                {
                  "INSTNM": "Dominican University of California",
                  "TUITIONFEE_IN": 26250,
                  "_deepnote_index_column": 338
                },
                {
                  "INSTNM": "East Los Angeles College",
                  "TUITIONFEE_IN": 816,
                  "_deepnote_index_column": 341
                },
                {
                  "INSTNM": "El Camino Community College District",
                  "TUITIONFEE_IN": 651,
                  "_deepnote_index_column": 344
                },
                {
                  "INSTNM": "Evergreen Valley College",
                  "TUITIONFEE_IN": 766,
                  "_deepnote_index_column": 351
                },
                {
                  "INSTNM": "FIDM-Fashion Institute of Design & Merchandising-Los Angeles",
                  "TUITIONFEE_IN": 16775,
                  "_deepnote_index_column": 352
                },
                {
                  "INSTNM": "Fashion Careers College",
                  "TUITIONFEE_IN": 17225,
                  "_deepnote_index_column": 353
                },
                {
                  "INSTNM": "FIDM-Fashion Institute of Design & Merchandising-San Francisco",
                  "TUITIONFEE_IN": 16775,
                  "_deepnote_index_column": 354
                },
                {
                  "INSTNM": "FIDM-Fashion Institute of Design & Merchandising-Orange County",
                  "TUITIONFEE_IN": 16775,
                  "_deepnote_index_column": 355
                },
                {
                  "INSTNM": "Feather River Community College District",
                  "TUITIONFEE_IN": 728,
                  "_deepnote_index_column": 356
                },
                {
                  "INSTNM": "Foothill College",
                  "TUITIONFEE_IN": 837,
                  "_deepnote_index_column": 360
                },
                {
                  "INSTNM": "Fresno City College",
                  "TUITIONFEE_IN": 624,
                  "_deepnote_index_column": 363
                },
                {
                  "INSTNM": "Fresno Pacific University",
                  "TUITIONFEE_IN": 19674,
                  "_deepnote_index_column": 364
                },
                {
                  "INSTNM": "Fullerton College",
                  "TUITIONFEE_IN": 624,
                  "_deepnote_index_column": 366
                },
                {
                  "INSTNM": "Gavilan College",
                  "TUITIONFEE_IN": 674,
                  "_deepnote_index_column": 369
                },
                {
                  "INSTNM": "Glendale Community College",
                  "TUITIONFEE_IN": 690,
                  "_deepnote_index_column": 371
                },
                {
                  "INSTNM": "Glendale Career College",
                  "TUITIONFEE_IN": 14307,
                  "_deepnote_index_column": 372
                },
                {
                  "INSTNM": "Golden Gate University-San Francisco",
                  "TUITIONFEE_IN": 12150,
                  "_deepnote_index_column": 374
                },
                {
                  "INSTNM": "Golden West College",
                  "TUITIONFEE_IN": 638,
                  "_deepnote_index_column": 375
                },
                {
                  "INSTNM": "Grossmont College",
                  "TUITIONFEE_IN": 754,
                  "_deepnote_index_column": 377
                },
                {
                  "INSTNM": "Hartnell College",
                  "TUITIONFEE_IN": 788,
                  "_deepnote_index_column": 380
                },
                {
                  "INSTNM": "Harvey Mudd College",
                  "TUITIONFEE_IN": 31738,
                  "_deepnote_index_column": 381
                },
                {
                  "INSTNM": "Heald College-Rancho Cordova",
                  "TUITIONFEE_IN": 9940,
                  "_deepnote_index_column": 382
                },
                {
                  "INSTNM": "Heald College-Fresno",
                  "TUITIONFEE_IN": 9940,
                  "_deepnote_index_column": 383
                }
              ],
              "rows_bottom": [
                {
                  "INSTNM": "University of Phoenix-Charlotte Campus",
                  "TUITIONFEE_IN": 10170,
                  "_deepnote_index_column": 6364
                },
                {
                  "INSTNM": "Pierpont Community and Technical College",
                  "TUITIONFEE_IN": 3278,
                  "_deepnote_index_column": 6366
                },
                {
                  "INSTNM": "ITT Technical Institute-Duluth",
                  "TUITIONFEE_IN": 14196,
                  "_deepnote_index_column": 6368
                },
                {
                  "INSTNM": "ITT Technical Institute-Hilliard",
                  "TUITIONFEE_IN": 14196,
                  "_deepnote_index_column": 6369
                },
                {
                  "INSTNM": "University of Phoenix-Indiana",
                  "TUITIONFEE_IN": 9780,
                  "_deepnote_index_column": 6370
                },
                {
                  "INSTNM": "Dewey University-Hato Rey",
                  "TUITIONFEE_IN": 3738,
                  "_deepnote_index_column": 6372
                },
                {
                  "INSTNM": "Virginia College-Technical",
                  "TUITIONFEE_IN": 20350,
                  "_deepnote_index_column": 6376
                },
                {
                  "INSTNM": "Platt College-Miller-Motte Technical-Chattanooga",
                  "TUITIONFEE_IN": 15691,
                  "_deepnote_index_column": 6380
                },
                {
                  "INSTNM": "Westwood College-Chicago Loop",
                  "TUITIONFEE_IN": 12255,
                  "_deepnote_index_column": 6383
                },
                {
                  "INSTNM": "Helms Career Institute",
                  "TUITIONFEE_IN": 6732,
                  "_deepnote_index_column": 6391
                },
                {
                  "INSTNM": "Altierus Career College-Arlington",
                  "TUITIONFEE_IN": 11760,
                  "_deepnote_index_column": 6392
                },
                {
                  "INSTNM": "University of Phoenix-Eastern Washington Campus",
                  "TUITIONFEE_IN": 9750,
                  "_deepnote_index_column": 6394
                },
                {
                  "INSTNM": "University of Phoenix-Columbus Georgia Campus",
                  "TUITIONFEE_IN": 10320,
                  "_deepnote_index_column": 6395
                },
                {
                  "INSTNM": "University of Phoenix-Memphis Campus",
                  "TUITIONFEE_IN": 10170,
                  "_deepnote_index_column": 6396
                },
                {
                  "INSTNM": "University of Phoenix-Columbus Ohio Campus",
                  "TUITIONFEE_IN": 11550,
                  "_deepnote_index_column": 6397
                },
                {
                  "INSTNM": "University of Phoenix-Central Massachusetts Campus",
                  "TUITIONFEE_IN": 13020,
                  "_deepnote_index_column": 6398
                },
                {
                  "INSTNM": "University of Phoenix-Little Rock Campus",
                  "TUITIONFEE_IN": 9540,
                  "_deepnote_index_column": 6399
                },
                {
                  "INSTNM": "Charlie's Guard-Detective Bureau and Academy Inc",
                  "TUITIONFEE_IN": 6333,
                  "_deepnote_index_column": 6402
                },
                {
                  "INSTNM": "DeVry University-Nevada",
                  "TUITIONFEE_IN": 12100,
                  "_deepnote_index_column": 6404
                },
                {
                  "INSTNM": "DeVry University-Oregon",
                  "TUITIONFEE_IN": 12100,
                  "_deepnote_index_column": 6407
                },
                {
                  "INSTNM": "National University College-Rio Grande",
                  "TUITIONFEE_IN": 4755,
                  "_deepnote_index_column": 6408
                },
                {
                  "INSTNM": "Westwood College-Houston South",
                  "TUITIONFEE_IN": 11060,
                  "_deepnote_index_column": 6410
                },
                {
                  "INSTNM": "Brookline College-Albuquerque",
                  "TUITIONFEE_IN": 9900,
                  "_deepnote_index_column": 6412
                },
                {
                  "INSTNM": "Northcentral University",
                  "TUITIONFEE_IN": 9000,
                  "_deepnote_index_column": 6414
                },
                {
                  "INSTNM": "Colorado Technical University-Online",
                  "TUITIONFEE_IN": 14841,
                  "_deepnote_index_column": 6415
                },
                {
                  "INSTNM": "Baker College of Allen Park",
                  "TUITIONFEE_IN": 6300,
                  "_deepnote_index_column": 6416
                },
                {
                  "INSTNM": "Edutek College",
                  "TUITIONFEE_IN": 8500,
                  "_deepnote_index_column": 6418
                },
                {
                  "INSTNM": "Bayamon Community College",
                  "TUITIONFEE_IN": 4550,
                  "_deepnote_index_column": 6419
                },
                {
                  "INSTNM": "Folsom Lake College",
                  "TUITIONFEE_IN": 758,
                  "_deepnote_index_column": 6421
                },
                {
                  "INSTNM": "Hussian College-Daymar College Murfreesboro",
                  "TUITIONFEE_IN": 10050,
                  "_deepnote_index_column": 6425
                },
                {
                  "INSTNM": "Anamarc College-El Paso Central",
                  "TUITIONFEE_IN": 7787,
                  "_deepnote_index_column": 6438
                },
                {
                  "INSTNM": "Baptist University of the Americas",
                  "TUITIONFEE_IN": 3340,
                  "_deepnote_index_column": 6439
                },
                {
                  "INSTNM": "Beis Medrash Heichal Dovid",
                  "TUITIONFEE_IN": 5750,
                  "_deepnote_index_column": 6441
                },
                {
                  "INSTNM": "Mid City College",
                  "TUITIONFEE_IN": 7200,
                  "_deepnote_index_column": 6452
                },
                {
                  "INSTNM": "Escuela Hotelera de San Juan",
                  "TUITIONFEE_IN": 7300,
                  "_deepnote_index_column": 6456
                },
                {
                  "INSTNM": "Industrial Technical College",
                  "TUITIONFEE_IN": 4500,
                  "_deepnote_index_column": 6465
                },
                {
                  "INSTNM": "Jones International University",
                  "TUITIONFEE_IN": 10200,
                  "_deepnote_index_column": 6470
                },
                {
                  "INSTNM": "Charlotte Christian College and Theological Seminary",
                  "TUITIONFEE_IN": 5200,
                  "_deepnote_index_column": 6475
                },
                {
                  "INSTNM": "Silicon Valley University",
                  "TUITIONFEE_IN": 9475,
                  "_deepnote_index_column": 6480
                },
                {
                  "INSTNM": "The Art Institute of Tucson",
                  "TUITIONFEE_IN": 10560,
                  "_deepnote_index_column": 6488
                },
                {
                  "INSTNM": "Mountwest Community and Technical College",
                  "TUITIONFEE_IN": 2814,
                  "_deepnote_index_column": 6491
                },
                {
                  "INSTNM": "Montgomery County Community College-West Campus",
                  "TUITIONFEE_IN": 2910,
                  "_deepnote_index_column": 6495
                },
                {
                  "INSTNM": "Kanawha Valley Community and Technical College",
                  "TUITIONFEE_IN": 2642,
                  "_deepnote_index_column": 6496
                },
                {
                  "INSTNM": "American InterContinental University",
                  "TUITIONFEE_IN": 14433,
                  "_deepnote_index_column": 6497
                },
                {
                  "INSTNM": "Westwood College-Atlanta Peachtree Center Campus",
                  "TUITIONFEE_IN": 12255,
                  "_deepnote_index_column": 6498
                },
                {
                  "INSTNM": "ITT Technical Institute-Eden Prairie",
                  "TUITIONFEE_IN": 14196,
                  "_deepnote_index_column": 6499
                },
                {
                  "INSTNM": "Virginia College-Mobile",
                  "TUITIONFEE_IN": 9600,
                  "_deepnote_index_column": 6500
                },
                {
                  "INSTNM": "Brooks College",
                  "TUITIONFEE_IN": 16461,
                  "_deepnote_index_column": 6501
                },
                {
                  "INSTNM": "Le Cordon Bleu College of Culinary Arts-Las Vegas",
                  "TUITIONFEE_IN": 18500,
                  "_deepnote_index_column": 6502
                },
                {
                  "INSTNM": "International Academy of Design and Technology-Troy",
                  "TUITIONFEE_IN": 15120,
                  "_deepnote_index_column": 6503
                },
                {
                  "INSTNM": "American InterContinental University-Houston",
                  "TUITIONFEE_IN": 13815,
                  "_deepnote_index_column": 6504
                },
                {
                  "INSTNM": "Brown Mackie College-Dallas",
                  "TUITIONFEE_IN": 6444,
                  "_deepnote_index_column": 6506
                },
                {
                  "INSTNM": "Brown Mackie College-Fort Worth",
                  "TUITIONFEE_IN": 6444,
                  "_deepnote_index_column": 6507
                },
                {
                  "INSTNM": "University of California-Merced",
                  "TUITIONFEE_IN": 6653,
                  "_deepnote_index_column": 6508
                },
                {
                  "INSTNM": "Everest College-Fort Worth",
                  "TUITIONFEE_IN": 8175,
                  "_deepnote_index_column": 6509
                },
                {
                  "INSTNM": "Remington College-North Houston Campus",
                  "TUITIONFEE_IN": 11780,
                  "_deepnote_index_column": 6510
                },
                {
                  "INSTNM": "Westwood College-Northlake",
                  "TUITIONFEE_IN": 11697,
                  "_deepnote_index_column": 6517
                },
                {
                  "INSTNM": "University of Phoenix-New Jersey",
                  "TUITIONFEE_IN": 12750,
                  "_deepnote_index_column": 6518
                },
                {
                  "INSTNM": "University of Phoenix-Minnesota",
                  "TUITIONFEE_IN": 11730,
                  "_deepnote_index_column": 6519
                },
                {
                  "INSTNM": "Carrington College California-Emeryville",
                  "TUITIONFEE_IN": 11700,
                  "_deepnote_index_column": 6523
                },
                {
                  "INSTNM": "Everest Institute-Eagan",
                  "TUITIONFEE_IN": 10500,
                  "_deepnote_index_column": 6526
                },
                {
                  "INSTNM": "University of Phoenix-Kentucky",
                  "TUITIONFEE_IN": 9360,
                  "_deepnote_index_column": 6527
                },
                {
                  "INSTNM": "DeVry University-Minnesota",
                  "TUITIONFEE_IN": 12100,
                  "_deepnote_index_column": 6528
                },
                {
                  "INSTNM": "Kaplan University-Council Bluffs Campus",
                  "TUITIONFEE_IN": 11550,
                  "_deepnote_index_column": 6529
                },
                {
                  "INSTNM": "Las Vegas College",
                  "TUITIONFEE_IN": 10179,
                  "_deepnote_index_column": 6530
                },
                {
                  "INSTNM": "Altierus Career College-Orange Park",
                  "TUITIONFEE_IN": 9720,
                  "_deepnote_index_column": 6531
                },
                {
                  "INSTNM": "Everest College-McLean",
                  "TUITIONFEE_IN": 12802,
                  "_deepnote_index_column": 6535
                },
                {
                  "INSTNM": "Vatterott College-St Charles",
                  "TUITIONFEE_IN": 8953,
                  "_deepnote_index_column": 6542
                },
                {
                  "INSTNM": "Bridgemont Community and Technical College",
                  "TUITIONFEE_IN": 3118,
                  "_deepnote_index_column": 6554
                },
                {
                  "INSTNM": "Neumont College of Computer Science",
                  "TUITIONFEE_IN": 28000,
                  "_deepnote_index_column": 6556
                },
                {
                  "INSTNM": "Johnson & Wales University-Charlotte",
                  "TUITIONFEE_IN": 19200,
                  "_deepnote_index_column": 6557
                },
                {
                  "INSTNM": "University of Phoenix-Central Valley Campus",
                  "TUITIONFEE_IN": 11775,
                  "_deepnote_index_column": 6558
                },
                {
                  "INSTNM": "L'Ecole Culinaire-St Louis",
                  "TUITIONFEE_IN": 10315,
                  "_deepnote_index_column": 6559
                },
                {
                  "INSTNM": "Glendale Career College-Oceanside",
                  "TUITIONFEE_IN": 16102,
                  "_deepnote_index_column": 6566
                },
                {
                  "INSTNM": "Golf Academy of America",
                  "TUITIONFEE_IN": 9563,
                  "_deepnote_index_column": 6568
                },
                {
                  "INSTNM": "Minnesota School of Business-Waite Park",
                  "TUITIONFEE_IN": 11880,
                  "_deepnote_index_column": 6577
                },
                {
                  "INSTNM": "Minnesota School of Business-Shakopee",
                  "TUITIONFEE_IN": 11880,
                  "_deepnote_index_column": 6578
                },
                {
                  "INSTNM": "American Medical Sciences Center",
                  "TUITIONFEE_IN": 15500,
                  "_deepnote_index_column": 6585
                },
                {
                  "INSTNM": "Ave Maria University",
                  "TUITIONFEE_IN": 14370,
                  "_deepnote_index_column": 6588
                },
                {
                  "INSTNM": "Career Quest Learning Centers-Lansing",
                  "TUITIONFEE_IN": 6500,
                  "_deepnote_index_column": 6597
                },
                {
                  "INSTNM": "Central State Massage Academy",
                  "TUITIONFEE_IN": 4595,
                  "_deepnote_index_column": 6598
                },
                {
                  "INSTNM": "Community Christian College",
                  "TUITIONFEE_IN": 8000,
                  "_deepnote_index_column": 6600
                },
                {
                  "INSTNM": "Ecclesia College",
                  "TUITIONFEE_IN": 9440,
                  "_deepnote_index_column": 6607
                },
                {
                  "INSTNM": "HTEC-Houston's Training and Education Center Inc",
                  "TUITIONFEE_IN": 7000,
                  "_deepnote_index_column": 6615
                },
                {
                  "INSTNM": "Atlanta  Medical  Institute",
                  "TUITIONFEE_IN": 6900,
                  "_deepnote_index_column": 6617
                },
                {
                  "INSTNM": "John D Rockefeller IV Career Center",
                  "TUITIONFEE_IN": 1923,
                  "_deepnote_index_column": 6618
                },
                {
                  "INSTNM": "Los Angeles College of Music",
                  "TUITIONFEE_IN": 11100,
                  "_deepnote_index_column": 6622
                },
                {
                  "INSTNM": "Maple Springs Baptist Bible College and Seminary",
                  "TUITIONFEE_IN": 4890,
                  "_deepnote_index_column": 6623
                },
                {
                  "INSTNM": "Quality College of Culinary Careers",
                  "TUITIONFEE_IN": 12330,
                  "_deepnote_index_column": 6632
                },
                {
                  "INSTNM": "Universal College of Healing Arts",
                  "TUITIONFEE_IN": 8850,
                  "_deepnote_index_column": 6643
                },
                {
                  "INSTNM": "Uta Mesivta of Kiryas Joel",
                  "TUITIONFEE_IN": 5000,
                  "_deepnote_index_column": 6644
                },
                {
                  "INSTNM": "W L Bonner College",
                  "TUITIONFEE_IN": 4752,
                  "_deepnote_index_column": 6645
                },
                {
                  "INSTNM": "Walter Jay MD Institute An Educational Center",
                  "TUITIONFEE_IN": 6740,
                  "_deepnote_index_column": 6646
                },
                {
                  "INSTNM": "The Art Institute of Ohio-Cincinnati",
                  "TUITIONFEE_IN": 11844,
                  "_deepnote_index_column": 6648
                },
                {
                  "INSTNM": "University of Phoenix-Cheyenne Campus",
                  "TUITIONFEE_IN": 9450,
                  "_deepnote_index_column": 6650
                },
                {
                  "INSTNM": "University of Phoenix-Springfield  Campus",
                  "TUITIONFEE_IN": 9450,
                  "_deepnote_index_column": 6651
                },
                {
                  "INSTNM": "University of Phoenix-Iowa",
                  "TUITIONFEE_IN": 9450,
                  "_deepnote_index_column": 6652
                },
                {
                  "INSTNM": "University of Phoenix-San Antonio Campus",
                  "TUITIONFEE_IN": 10560,
                  "_deepnote_index_column": 6653
                },
                {
                  "INSTNM": "University of Phoenix-Austin Campus",
                  "TUITIONFEE_IN": 10560,
                  "_deepnote_index_column": 6654
                },
                {
                  "INSTNM": "University of Phoenix-Richmond-Virginia Beach Campus",
                  "TUITIONFEE_IN": 11370,
                  "_deepnote_index_column": 6655
                },
                {
                  "INSTNM": "University of Phoenix-Raleigh Campus",
                  "TUITIONFEE_IN": 10170,
                  "_deepnote_index_column": 6656
                },
                {
                  "INSTNM": "Blue Ridge Community and Technical College",
                  "TUITIONFEE_IN": 2968,
                  "_deepnote_index_column": 6657
                },
                {
                  "INSTNM": "Sanford-Brown College-Las Vegas",
                  "TUITIONFEE_IN": 19800,
                  "_deepnote_index_column": 6659
                },
                {
                  "INSTNM": "Sanford-Brown College-Seattle",
                  "TUITIONFEE_IN": 15360,
                  "_deepnote_index_column": 6660
                },
                {
                  "INSTNM": "International Academy of Design and Technology-Nashville",
                  "TUITIONFEE_IN": 14805,
                  "_deepnote_index_column": 6661
                },
                {
                  "INSTNM": "Le Cordon Bleu College of Culinary Arts-Miami",
                  "TUITIONFEE_IN": 33250,
                  "_deepnote_index_column": 6662
                },
                {
                  "INSTNM": "Le Cordon Bleu College of Culinary Arts-Minneapolis",
                  "TUITIONFEE_IN": 37500,
                  "_deepnote_index_column": 6663
                },
                {
                  "INSTNM": "Platt College-McCann-Shreveport",
                  "TUITIONFEE_IN": 6660,
                  "_deepnote_index_column": 6667
                },
                {
                  "INSTNM": "ITT Technical Institute-Kansas City",
                  "TUITIONFEE_IN": 14196,
                  "_deepnote_index_column": 6668
                },
                {
                  "INSTNM": "ITT Technical Institute-Kennesaw",
                  "TUITIONFEE_IN": 14196,
                  "_deepnote_index_column": 6669
                },
                {
                  "INSTNM": "ITT Technical Institute-Owings Mills",
                  "TUITIONFEE_IN": 14196,
                  "_deepnote_index_column": 6670
                },
                {
                  "INSTNM": "ITT Technical Institute-Warrensville Heights",
                  "TUITIONFEE_IN": 14196,
                  "_deepnote_index_column": 6671
                },
                {
                  "INSTNM": "MTI College of Business and Technology-Eastside",
                  "TUITIONFEE_IN": 8359,
                  "_deepnote_index_column": 6674
                },
                {
                  "INSTNM": "Copiah-Lincoln Community College Simpson County Center",
                  "TUITIONFEE_IN": 1820,
                  "_deepnote_index_column": 6678
                },
                {
                  "INSTNM": "Brown Mackie College-San Diego",
                  "TUITIONFEE_IN": 8580,
                  "_deepnote_index_column": 6679
                },
                {
                  "INSTNM": "Westwood College-Arlington Ballston",
                  "TUITIONFEE_IN": 12255,
                  "_deepnote_index_column": 6681
                },
                {
                  "INSTNM": "Rasmussen College-Bismarck",
                  "TUITIONFEE_IN": 9240,
                  "_deepnote_index_column": 6685
                },
                {
                  "INSTNM": "Everest College-Mesa",
                  "TUITIONFEE_IN": 12507,
                  "_deepnote_index_column": 6693
                },
                {
                  "INSTNM": "Argosy University-Los Angeles",
                  "TUITIONFEE_IN": 8604,
                  "_deepnote_index_column": 6697
                },
                {
                  "INSTNM": "Brown Mackie College-Denver",
                  "TUITIONFEE_IN": 8604,
                  "_deepnote_index_column": 6698
                },
                {
                  "INSTNM": "Brown Mackie College-Miami",
                  "TUITIONFEE_IN": 11472,
                  "_deepnote_index_column": 6699
                },
                {
                  "INSTNM": "Brown Mackie College-Orange County",
                  "TUITIONFEE_IN": 8604,
                  "_deepnote_index_column": 6700
                },
                {
                  "INSTNM": "San Joaquin Valley College-Modesto",
                  "TUITIONFEE_IN": 10540,
                  "_deepnote_index_column": 6705
                },
                {
                  "INSTNM": "Harrison College-Northwest",
                  "TUITIONFEE_IN": 9120,
                  "_deepnote_index_column": 6709
                },
                {
                  "INSTNM": "Eagle Gate College-Layton",
                  "TUITIONFEE_IN": 9450,
                  "_deepnote_index_column": 6711
                },
                {
                  "INSTNM": "SAE Expression College",
                  "TUITIONFEE_IN": 15625,
                  "_deepnote_index_column": 6714
                },
                {
                  "INSTNM": "Daymar College-Bellevue",
                  "TUITIONFEE_IN": 10140,
                  "_deepnote_index_column": 6716
                },
                {
                  "INSTNM": "DeVry University-Oklahoma",
                  "TUITIONFEE_IN": 12100,
                  "_deepnote_index_column": 6717
                },
                {
                  "INSTNM": "New River Community and Technical College",
                  "TUITIONFEE_IN": 2624,
                  "_deepnote_index_column": 6722
                },
                {
                  "INSTNM": "The College of Health Care Professions-Southwest Houston",
                  "TUITIONFEE_IN": 9000,
                  "_deepnote_index_column": 6723
                },
                {
                  "INSTNM": "Eagle Gate College-Salt Lake City",
                  "TUITIONFEE_IN": 8100,
                  "_deepnote_index_column": 6724
                },
                {
                  "INSTNM": "Rasmussen College-Brooklyn Park",
                  "TUITIONFEE_IN": 14160,
                  "_deepnote_index_column": 6726
                },
                {
                  "INSTNM": "University of Phoenix-Savannah Campus",
                  "TUITIONFEE_IN": 10140,
                  "_deepnote_index_column": 6727
                },
                {
                  "INSTNM": "University of Phoenix-Northern Nevada Campus",
                  "TUITIONFEE_IN": 9750,
                  "_deepnote_index_column": 6728
                },
                {
                  "INSTNM": "Faulkner University-Birmingham",
                  "TUITIONFEE_IN": 5535,
                  "_deepnote_index_column": 6729
                },
                {
                  "INSTNM": "Faulkner University",
                  "TUITIONFEE_IN": 4920,
                  "_deepnote_index_column": 6730
                },
                {
                  "INSTNM": "Faulkner University-Mobile",
                  "TUITIONFEE_IN": 5535,
                  "_deepnote_index_column": 6731
                },
                {
                  "INSTNM": "Troy University-Montgomery Campus",
                  "TUITIONFEE_IN": 4104,
                  "_deepnote_index_column": 6733
                },
                {
                  "INSTNM": "Troy University-Dothan Campus",
                  "TUITIONFEE_IN": 4104,
                  "_deepnote_index_column": 6734
                },
                {
                  "INSTNM": "Troy University-Atlantic Region",
                  "TUITIONFEE_IN": 3972,
                  "_deepnote_index_column": 6735
                },
                {
                  "INSTNM": "Troy University-Southeast Region",
                  "TUITIONFEE_IN": 3972,
                  "_deepnote_index_column": 6736
                },
                {
                  "INSTNM": "Troy University-Southeast Region",
                  "TUITIONFEE_IN": 3972,
                  "_deepnote_index_column": 6737
                },
                {
                  "INSTNM": "Golden Gate University-Monterey",
                  "TUITIONFEE_IN": 12150,
                  "_deepnote_index_column": 6746
                },
                {
                  "INSTNM": "Golden Gate University-Walnut Creek",
                  "TUITIONFEE_IN": 12150,
                  "_deepnote_index_column": 6747
                },
                {
                  "INSTNM": "Golden Gate University-Roseville",
                  "TUITIONFEE_IN": 12150,
                  "_deepnote_index_column": 6749
                },
                {
                  "INSTNM": "Golden Gate University-Silicon Valley",
                  "TUITIONFEE_IN": 12150,
                  "_deepnote_index_column": 6751
                },
                {
                  "INSTNM": "Humphreys College-Modesto",
                  "TUITIONFEE_IN": 7920,
                  "_deepnote_index_column": 6752
                },
                {
                  "INSTNM": "Mount Saint Mary's University - Doheny Campus",
                  "TUITIONFEE_IN": 22054,
                  "_deepnote_index_column": 6753
                },
                {
                  "INSTNM": "San Joaquin General Hospital School of Radiation Technology",
                  "TUITIONFEE_IN": 1040,
                  "_deepnote_index_column": 6754
                },
                {
                  "INSTNM": "Porter and Chester Institute of Rocky Hill",
                  "TUITIONFEE_IN": 21570,
                  "_deepnote_index_column": 6762
                },
                {
                  "INSTNM": "Porter and Chester Institute of Enfield",
                  "TUITIONFEE_IN": 21570,
                  "_deepnote_index_column": 6763
                },
                {
                  "INSTNM": "Porter and Chester Institute of Waterbury",
                  "TUITIONFEE_IN": 21570,
                  "_deepnote_index_column": 6764
                },
                {
                  "INSTNM": "Porter and Chester Institute of Chicopee",
                  "TUITIONFEE_IN": 21570,
                  "_deepnote_index_column": 6765
                },
                {
                  "INSTNM": "Strayer University-Takoma Park Campus",
                  "TUITIONFEE_IN": 10368,
                  "_deepnote_index_column": 6766
                },
                {
                  "INSTNM": "Strayer University-Woodbridge Campus",
                  "TUITIONFEE_IN": 10368,
                  "_deepnote_index_column": 6767
                },
                {
                  "INSTNM": "Strayer University-Fredericksburg Campus",
                  "TUITIONFEE_IN": 10368,
                  "_deepnote_index_column": 6768
                },
                {
                  "INSTNM": "Strayer University-Alexandria Campus",
                  "TUITIONFEE_IN": 10368,
                  "_deepnote_index_column": 6769
                },
                {
                  "INSTNM": "Strayer University-Loudoun Campus",
                  "TUITIONFEE_IN": 10368,
                  "_deepnote_index_column": 6770
                },
                {
                  "INSTNM": "Strayer University-Manassas Campus",
                  "TUITIONFEE_IN": 10368,
                  "_deepnote_index_column": 6771
                },
                {
                  "INSTNM": "Strayer University-Takoma Park Campus",
                  "TUITIONFEE_IN": 10368,
                  "_deepnote_index_column": 6772
                },
                {
                  "INSTNM": "Strayer University-Prince Georges Campus",
                  "TUITIONFEE_IN": 10368,
                  "_deepnote_index_column": 6773
                },
                {
                  "INSTNM": "Strayer University-Henrico Campus",
                  "TUITIONFEE_IN": 10368,
                  "_deepnote_index_column": 6774
                },
                {
                  "INSTNM": "Strayer University-Anne Arundel Campus",
                  "TUITIONFEE_IN": 10368,
                  "_deepnote_index_column": 6775
                },
                {
                  "INSTNM": "Strayer University-White Marsh Campus",
                  "TUITIONFEE_IN": 10368,
                  "_deepnote_index_column": 6776
                },
                {
                  "INSTNM": "Strayer University-Rockville Campus",
                  "TUITIONFEE_IN": 10368,
                  "_deepnote_index_column": 6777
                },
                {
                  "INSTNM": "Strayer University-Chesterfield Campus",
                  "TUITIONFEE_IN": 10368,
                  "_deepnote_index_column": 6778
                },
                {
                  "INSTNM": "Strayer University-Chesapeake Campus",
                  "TUITIONFEE_IN": 10368,
                  "_deepnote_index_column": 6779
                },
                {
                  "INSTNM": "Strayer University-Newport News Campus",
                  "TUITIONFEE_IN": 10368,
                  "_deepnote_index_column": 6780
                },
                {
                  "INSTNM": "Strayer University-Owings Mills Campus",
                  "TUITIONFEE_IN": 10368,
                  "_deepnote_index_column": 6781
                },
                {
                  "INSTNM": "Strayer University-Online Campus",
                  "TUITIONFEE_IN": 10368,
                  "_deepnote_index_column": 6782
                },
                {
                  "INSTNM": "Strayer University-Research Triangle Park Campus",
                  "TUITIONFEE_IN": 10368,
                  "_deepnote_index_column": 6783
                },
                {
                  "INSTNM": "Strayer University-North Charlotte",
                  "TUITIONFEE_IN": 10368,
                  "_deepnote_index_column": 6784
                },
                {
                  "INSTNM": "Strayer University-South Charlotte",
                  "TUITIONFEE_IN": 10368,
                  "_deepnote_index_column": 6785
                },
                {
                  "INSTNM": "Strayer University-Nashville Campus",
                  "TUITIONFEE_IN": 10368,
                  "_deepnote_index_column": 6786
                },
                {
                  "INSTNM": "Strayer University-Thousand Oaks Campus",
                  "TUITIONFEE_IN": 10368,
                  "_deepnote_index_column": 6787
                },
                {
                  "INSTNM": "Strayer University-North Raleigh Campus",
                  "TUITIONFEE_IN": 10368,
                  "_deepnote_index_column": 6788
                },
                {
                  "INSTNM": "Strayer University-Lower Bucks Campus",
                  "TUITIONFEE_IN": 10368,
                  "_deepnote_index_column": 6789
                },
                {
                  "INSTNM": "Strayer University-Delaware County Campus",
                  "TUITIONFEE_IN": 10368,
                  "_deepnote_index_column": 6790
                },
                {
                  "INSTNM": "Strayer University-Greenville Campus",
                  "TUITIONFEE_IN": 10368,
                  "_deepnote_index_column": 6791
                },
                {
                  "INSTNM": "Strayer University-Shelby Oaks Campus",
                  "TUITIONFEE_IN": 10368,
                  "_deepnote_index_column": 6792
                },
                {
                  "INSTNM": "Strayer University-Chamblee Campus",
                  "TUITIONFEE_IN": 10368,
                  "_deepnote_index_column": 6793
                },
                {
                  "INSTNM": "Strayer University-Cobb Campus",
                  "TUITIONFEE_IN": 10368,
                  "_deepnote_index_column": 6794
                },
                {
                  "INSTNM": "Strayer University-King of Prussia Campus",
                  "TUITIONFEE_IN": 10368,
                  "_deepnote_index_column": 6795
                },
                {
                  "INSTNM": "Keiser University-Melbourne",
                  "TUITIONFEE_IN": 11832,
                  "_deepnote_index_column": 6796
                },
                {
                  "INSTNM": "Keiser University-Tallahassee",
                  "TUITIONFEE_IN": 11832,
                  "_deepnote_index_column": 6797
                },
                {
                  "INSTNM": "Keiser University-Daytona",
                  "TUITIONFEE_IN": 11832,
                  "_deepnote_index_column": 6798
                },
                {
                  "INSTNM": "Keiser University-Lakeland",
                  "TUITIONFEE_IN": 11832,
                  "_deepnote_index_column": 6799
                },
                {
                  "INSTNM": "Keiser University- Miami",
                  "TUITIONFEE_IN": 11832,
                  "_deepnote_index_column": 6800
                },
                {
                  "INSTNM": "Keiser University-Orlando",
                  "TUITIONFEE_IN": 11832,
                  "_deepnote_index_column": 6801
                },
                {
                  "INSTNM": "Keiser University-Sarasota",
                  "TUITIONFEE_IN": 11832,
                  "_deepnote_index_column": 6802
                },
                {
                  "INSTNM": "Keiser University-Jacksonville",
                  "TUITIONFEE_IN": 11832,
                  "_deepnote_index_column": 6803
                },
                {
                  "INSTNM": "Keiser University-Tampa",
                  "TUITIONFEE_IN": 11832,
                  "_deepnote_index_column": 6804
                },
                {
                  "INSTNM": "Keiser University-Pembroke Pines",
                  "TUITIONFEE_IN": 11832,
                  "_deepnote_index_column": 6805
                },
                {
                  "INSTNM": "Keiser University-Port St Lucie",
                  "TUITIONFEE_IN": 11832,
                  "_deepnote_index_column": 6806
                },
                {
                  "INSTNM": "Keiser University-West Palm Beach",
                  "TUITIONFEE_IN": 11832,
                  "_deepnote_index_column": 6807
                },
                {
                  "INSTNM": "Graceland University - Independence",
                  "TUITIONFEE_IN": 16000,
                  "_deepnote_index_column": 6811
                },
                {
                  "INSTNM": "Coffeyville Community College and Area Technical School",
                  "TUITIONFEE_IN": 2175,
                  "_deepnote_index_column": 6812
                },
                {
                  "INSTNM": "Laurel Campus South",
                  "TUITIONFEE_IN": 2352,
                  "_deepnote_index_column": 6817
                },
                {
                  "INSTNM": "Somerset Campus South",
                  "TUITIONFEE_IN": 2352,
                  "_deepnote_index_column": 6818
                },
                {
                  "INSTNM": "The Art Institute of Boston at Lesley University",
                  "TUITIONFEE_IN": 20425,
                  "_deepnote_index_column": 6823
                },
                {
                  "INSTNM": "Cleary University",
                  "TUITIONFEE_IN": 12960,
                  "_deepnote_index_column": 6824
                },
                {
                  "INSTNM": "Davenport University-South Bend Location",
                  "TUITIONFEE_IN": 7200,
                  "_deepnote_index_column": 6825
                },
                {
                  "INSTNM": "Davenport University-Merrillville Location",
                  "TUITIONFEE_IN": 7200,
                  "_deepnote_index_column": 6826
                },
                {
                  "INSTNM": "Davenport University-Warren Location",
                  "TUITIONFEE_IN": 8880,
                  "_deepnote_index_column": 6827
                },
                {
                  "INSTNM": "Davenport University-Kalamazoo Location",
                  "TUITIONFEE_IN": 8880,
                  "_deepnote_index_column": 6828
                },
                {
                  "INSTNM": "Davenport University-Lansing Location",
                  "TUITIONFEE_IN": 8880,
                  "_deepnote_index_column": 6829
                },
                {
                  "INSTNM": "Davenport University-Dearborn Location",
                  "TUITIONFEE_IN": 8880,
                  "_deepnote_index_column": 6830
                },
                {
                  "INSTNM": "Davenport University-Midland Location",
                  "TUITIONFEE_IN": 6720,
                  "_deepnote_index_column": 6831
                },
                {
                  "INSTNM": "Davenport University-Fulton Street Location",
                  "TUITIONFEE_IN": 7200,
                  "_deepnote_index_column": 6832
                },
                {
                  "INSTNM": "Davenport University-Holland Location",
                  "TUITIONFEE_IN": 8880,
                  "_deepnote_index_column": 6833
                },
                {
                  "INSTNM": "Anoka-Ramsey Community College-Cambridge Campus",
                  "TUITIONFEE_IN": 3582,
                  "_deepnote_index_column": 6834
                },
                {
                  "INSTNM": "Central Lakes College-Staples Campus",
                  "TUITIONFEE_IN": 3939,
                  "_deepnote_index_column": 6835
                },
                {
                  "INSTNM": "M State - Detroit Lakes Campus",
                  "TUITIONFEE_IN": 4438,
                  "_deepnote_index_column": 6836
                },
                {
                  "INSTNM": "M State - Moorhead Campus",
                  "TUITIONFEE_IN": 4502,
                  "_deepnote_index_column": 6837
                },
                {
                  "INSTNM": "M State - Wadena Campus",
                  "TUITIONFEE_IN": 4422,
                  "_deepnote_index_column": 6838
                },
                {
                  "INSTNM": "South Central College-Faribault",
                  "TUITIONFEE_IN": 3818,
                  "_deepnote_index_column": 6839
                },
                {
                  "INSTNM": "Mesabi Range College",
                  "TUITIONFEE_IN": 4028,
                  "_deepnote_index_column": 6840
                },
                {
                  "INSTNM": "Northland Community and Technical College - East Grand Forks",
                  "TUITIONFEE_IN": 4400,
                  "_deepnote_index_column": 6841
                },
                {
                  "INSTNM": "Ridgewater College",
                  "TUITIONFEE_IN": 4409,
                  "_deepnote_index_column": 6842
                },
                {
                  "INSTNM": "Minnesota State CollegeSoutheast-Red Wing Campus",
                  "TUITIONFEE_IN": 4325,
                  "_deepnote_index_column": 6843
                },
                {
                  "INSTNM": "Pearl River Community College-Forrest County Center",
                  "TUITIONFEE_IN": 1720,
                  "_deepnote_index_column": 6844
                },
                {
                  "INSTNM": "Metro Business College",
                  "TUITIONFEE_IN": 8185,
                  "_deepnote_index_column": 6845
                },
                {
                  "INSTNM": "Metro Business College",
                  "TUITIONFEE_IN": 8185,
                  "_deepnote_index_column": 6846
                },
                {
                  "INSTNM": "Berkeley College - Westchester Campus",
                  "TUITIONFEE_IN": 16950,
                  "_deepnote_index_column": 6849
                },
                {
                  "INSTNM": "Culinary Institute of America at Greystone",
                  "TUITIONFEE_IN": 19180,
                  "_deepnote_index_column": 6850
                },
                {
                  "INSTNM": "Pratt Manhattan-A Division of Pratt Institute",
                  "TUITIONFEE_IN": 27580,
                  "_deepnote_index_column": 6851
                },
                {
                  "INSTNM": "Los Angeles Center",
                  "TUITIONFEE_IN": 8832,
                  "_deepnote_index_column": 6852
                },
                {
                  "INSTNM": "Florida Center",
                  "TUITIONFEE_IN": 8832,
                  "_deepnote_index_column": 6853
                },
                {
                  "INSTNM": "Sacramento Center",
                  "TUITIONFEE_IN": 8832,
                  "_deepnote_index_column": 6854
                },
                {
                  "INSTNM": "Montpelier Center - Closed July 2013",
                  "TUITIONFEE_IN": 11920,
                  "_deepnote_index_column": 6855
                },
                {
                  "INSTNM": "Brattleboro Center - Closed July 2013",
                  "TUITIONFEE_IN": 11920,
                  "_deepnote_index_column": 6856
                },
                {
                  "INSTNM": "Bucks County Community College-Upper Bucks Campus",
                  "TUITIONFEE_IN": 3194,
                  "_deepnote_index_column": 6860
                },
                {
                  "INSTNM": "Laurel Technical Institute Meadville",
                  "TUITIONFEE_IN": 7825,
                  "_deepnote_index_column": 6861
                },
                {
                  "INSTNM": "South Hills School of Business and Technology-Altoona",
                  "TUITIONFEE_IN": 11157,
                  "_deepnote_index_column": 6862
                },
                {
                  "INSTNM": "San Jacinto College-North Campus",
                  "TUITIONFEE_IN": 1280,
                  "_deepnote_index_column": 6867
                },
                {
                  "INSTNM": "San Jacinto College-South Campus",
                  "TUITIONFEE_IN": 1280,
                  "_deepnote_index_column": 6868
                },
                {
                  "INSTNM": "Snow College-Richfield Campus",
                  "TUITIONFEE_IN": 1996,
                  "_deepnote_index_column": 6870
                },
                {
                  "INSTNM": "West Virginia Business College-Nutter Fort",
                  "TUITIONFEE_IN": 8500,
                  "_deepnote_index_column": 6875
                },
                {
                  "INSTNM": "University of the Virgin Islands-Albert A. Sheen",
                  "TUITIONFEE_IN": 3670,
                  "_deepnote_index_column": 6876
                },
                {
                  "INSTNM": "OWENSBORO COMMUNITY AND TECHNICAL COLLEGE",
                  "TUITIONFEE_IN": 2352,
                  "_deepnote_index_column": 6878
                },
                {
                  "INSTNM": "OWENSBORO TECHNICAL COLLEGE-DAVIES COUNTY EXTENSIO",
                  "TUITIONFEE_IN": 2352,
                  "_deepnote_index_column": 6879
                },
                {
                  "INSTNM": "Everglades University-Orlando",
                  "TUITIONFEE_IN": 11344,
                  "_deepnote_index_column": 6883
                },
                {
                  "INSTNM": "Everglades University-Sarasota",
                  "TUITIONFEE_IN": 11344,
                  "_deepnote_index_column": 6884
                },
                {
                  "INSTNM": "Wright Career College - Oklahoma City OK",
                  "TUITIONFEE_IN": 11540,
                  "_deepnote_index_column": 6886
                },
                {
                  "INSTNM": "Florida National University-South Campus",
                  "TUITIONFEE_IN": 10020,
                  "_deepnote_index_column": 6887
                },
                {
                  "INSTNM": "Southeastern College-Miami Lakes",
                  "TUITIONFEE_IN": 11832,
                  "_deepnote_index_column": 6890
                },
                {
                  "INSTNM": "Southeastern College-St. Petersburg",
                  "TUITIONFEE_IN": 11832,
                  "_deepnote_index_column": 6891
                },
                {
                  "INSTNM": "McCann School of Business & Technology",
                  "TUITIONFEE_IN": 8928,
                  "_deepnote_index_column": 6892
                },
                {
                  "INSTNM": "McCann School of Business & Technology",
                  "TUITIONFEE_IN": 8928,
                  "_deepnote_index_column": 6893
                },
                {
                  "INSTNM": "McCann School of Business & Technology",
                  "TUITIONFEE_IN": 8928,
                  "_deepnote_index_column": 6894
                }
              ]
            },
            "text/plain": "                                      INSTNM  TUITIONFEE_IN\n1                   Alabama A & M University         4420.0\n2        University of Alabama at Birmingham         4792.0\n3                         Amridge University        10400.0\n4        University of Alabama in Huntsville         4688.0\n5                   Alabama State University         4008.0\n...                                      ...            ...\n6890        Southeastern College-Miami Lakes        11832.0\n6891     Southeastern College-St. Petersburg        11832.0\n6892  McCann School of Business & Technology         8928.0\n6893  McCann School of Business & Technology         8928.0\n6894  McCann School of Business & Technology         8928.0\n\n[4173 rows x 2 columns]",
            "text/html": "<div>\n<style scoped>\n    .dataframe tbody tr th:only-of-type {\n        vertical-align: middle;\n    }\n\n    .dataframe tbody tr th {\n        vertical-align: top;\n    }\n\n    .dataframe thead th {\n        text-align: right;\n    }\n</style>\n<table border=\"1\" class=\"dataframe\">\n  <thead>\n    <tr style=\"text-align: right;\">\n      <th></th>\n      <th>INSTNM</th>\n      <th>TUITIONFEE_IN</th>\n    </tr>\n  </thead>\n  <tbody>\n    <tr>\n      <th>1</th>\n      <td>Alabama A &amp; M University</td>\n      <td>4420.0</td>\n    </tr>\n    <tr>\n      <th>2</th>\n      <td>University of Alabama at Birmingham</td>\n      <td>4792.0</td>\n    </tr>\n    <tr>\n      <th>3</th>\n      <td>Amridge University</td>\n      <td>10400.0</td>\n    </tr>\n    <tr>\n      <th>4</th>\n      <td>University of Alabama in Huntsville</td>\n      <td>4688.0</td>\n    </tr>\n    <tr>\n      <th>5</th>\n      <td>Alabama State University</td>\n      <td>4008.0</td>\n    </tr>\n    <tr>\n      <th>...</th>\n      <td>...</td>\n      <td>...</td>\n    </tr>\n    <tr>\n      <th>6890</th>\n      <td>Southeastern College-Miami Lakes</td>\n      <td>11832.0</td>\n    </tr>\n    <tr>\n      <th>6891</th>\n      <td>Southeastern College-St. Petersburg</td>\n      <td>11832.0</td>\n    </tr>\n    <tr>\n      <th>6892</th>\n      <td>McCann School of Business &amp; Technology</td>\n      <td>8928.0</td>\n    </tr>\n    <tr>\n      <th>6893</th>\n      <td>McCann School of Business &amp; Technology</td>\n      <td>8928.0</td>\n    </tr>\n    <tr>\n      <th>6894</th>\n      <td>McCann School of Business &amp; Technology</td>\n      <td>8928.0</td>\n    </tr>\n  </tbody>\n</table>\n<p>4173 rows × 2 columns</p>\n</div>"
          },
          "metadata": {}
        }
      ]
    },
    {
      "cell_type": "code",
      "metadata": {
        "tags": [],
        "cell_id": "00009-af6dbe7e-b628-4e41-be3b-096e13de4b5a",
        "deepnote_to_be_reexecuted": false,
        "source_hash": "15b5a28f",
        "execution_millis": 9,
        "execution_start": 1618802177711,
        "deepnote_cell_type": "code"
      },
      "source": "# 7 - Find out how many observations have 0 tution.\nnofee = (df[\"TUITIONFEE_IN\"] == 0).value_counts()\nnofee\n",
      "execution_count": 11,
      "outputs": [
        {
          "output_type": "execute_result",
          "execution_count": 11,
          "data": {
            "text/plain": "False    4168\nTrue        5\nName: TUITIONFEE_IN, dtype: int64"
          },
          "metadata": {}
        }
      ]
    },
    {
      "cell_type": "code",
      "metadata": {
        "tags": [],
        "cell_id": "00010-4c8fdd74-826e-44c1-a54b-684fb60ed0cd",
        "deepnote_to_be_reexecuted": false,
        "source_hash": "ff5b28b",
        "execution_millis": 2,
        "execution_start": 1618802276562,
        "deepnote_cell_type": "code"
      },
      "source": "# 8 - Drop those observations with 0 tuition\n# Disaply the number of observations afterward\ndf= df[df[\"TUITIONFEE_IN\"] != 0]",
      "execution_count": 20,
      "outputs": []
    },
    {
      "cell_type": "code",
      "metadata": {
        "tags": [],
        "cell_id": "00013-94a2e69a-4ef1-4401-9cd0-1f9cf1b5694d",
        "deepnote_to_be_reexecuted": false,
        "source_hash": "34650470",
        "execution_millis": 9,
        "execution_start": 1618802278972,
        "deepnote_cell_type": "code"
      },
      "source": "nofee = (df[\"TUITIONFEE_IN\"] == 0).value_counts()\nnofee\n",
      "execution_count": 21,
      "outputs": [
        {
          "output_type": "execute_result",
          "execution_count": 21,
          "data": {
            "text/plain": "False    4168\nName: TUITIONFEE_IN, dtype: int64"
          },
          "metadata": {}
        }
      ]
    },
    {
      "cell_type": "code",
      "metadata": {
        "tags": [],
        "cell_id": "00011-57258d89-dd32-4b80-8e21-72eea6dc2a58",
        "deepnote_to_be_reexecuted": false,
        "source_hash": "3779ee12",
        "execution_millis": 7,
        "execution_start": 1618802284279,
        "deepnote_cell_type": "code"
      },
      "source": "# 9 - Calculate and display the mean (average) of the tuitions of all the remaining observations\ndf_mean = df[\"TUITIONFEE_IN\"].mean()\ndf_mean",
      "execution_count": 23,
      "outputs": [
        {
          "output_type": "execute_result",
          "execution_count": 23,
          "data": {
            "text/plain": "9586.676583493283"
          },
          "metadata": {}
        }
      ]
    },
    {
      "cell_type": "code",
      "metadata": {
        "tags": [],
        "cell_id": "00012-2ffcbff5-c02d-4b68-b4d5-f73edcd65553",
        "deepnote_to_be_reexecuted": false,
        "source_hash": "87ca5f7a",
        "execution_millis": 9,
        "execution_start": 1618802288821,
        "deepnote_cell_type": "code"
      },
      "source": "# 10 - Randomly select just 1 observation from the data frame.\n# Display the tuition of that observation.\nob_ran=random.randint(0,len(df))\ndf.iloc[ob_ran]",
      "execution_count": 24,
      "outputs": [
        {
          "output_type": "execute_result",
          "execution_count": 24,
          "data": {
            "text/plain": "INSTNM           Green River College\nTUITIONFEE_IN                 2576.0\nName: 4426, dtype: object"
          },
          "metadata": {}
        }
      ]
    },
    {
      "cell_type": "code",
      "metadata": {
        "tags": [],
        "cell_id": "00015-99b4ada6-73a9-4647-9896-4d0b4c2ba7b4",
        "deepnote_to_be_reexecuted": false,
        "source_hash": "5079a02b",
        "execution_millis": 9,
        "execution_start": 1618802294412,
        "deepnote_cell_type": "code"
      },
      "source": "tut_ran=df['TUITIONFEE_IN'].iloc[ob_ran]\ntut_ran",
      "execution_count": 25,
      "outputs": [
        {
          "output_type": "execute_result",
          "execution_count": 25,
          "data": {
            "text/plain": "2576.0"
          },
          "metadata": {}
        }
      ]
    },
    {
      "cell_type": "code",
      "metadata": {
        "tags": [],
        "cell_id": "00014-e93a9d82-c484-47e0-8b35-fa7404c00e7a",
        "deepnote_to_be_reexecuted": false,
        "source_hash": "bbf0fbe6",
        "execution_millis": 8,
        "execution_start": 1618802301183,
        "deepnote_cell_type": "code"
      },
      "source": "# 11 - Calculate the different between the tuition of this observation and \n# the mean tuition off all observations calculated earlier.\n# Display the difference\ndifferent = (df_mean) - tut_ran\ndifferent",
      "execution_count": 26,
      "outputs": [
        {
          "output_type": "execute_result",
          "execution_count": 26,
          "data": {
            "text/plain": "7010.676583493283"
          },
          "metadata": {}
        }
      ]
    },
    {
      "cell_type": "code",
      "metadata": {
        "tags": [],
        "cell_id": "00015-6d5ac595-2fe7-4448-bfde-6bf1c17506db",
        "deepnote_to_be_reexecuted": false,
        "source_hash": "8f779f57",
        "execution_millis": 12,
        "execution_start": 1618802304350,
        "deepnote_cell_type": "code"
      },
      "source": "# 12 - Repeat 10 to 11 several times get the feel of the size of the difference in means\ndef randdiff(dataf,averag,n):\n    for i in range(0,n):\n        ob_ran = random.randint(0,len(dataf))\n        tut_ran = df['TUITIONFEE_IN'].iloc[ob_ran]\n        diff = averag-tut_ran\n        print(diff)\nranddiff(df,df_mean,11)",
      "execution_count": 27,
      "outputs": [
        {
          "name": "stdout",
          "text": "7412.676583493283\n658.676583493283\n7234.676583493283\n-4609.323416506717\n7150.676583493283\n136.67658349328303\n4711.676583493283\n2241.676583493283\n6292.676583493283\n8450.676583493283\n-19048.32341650672\n",
          "output_type": "stream"
        }
      ]
    },
    {
      "cell_type": "code",
      "metadata": {
        "tags": [],
        "cell_id": "00019-c2dfba1c-2437-43c8-93dd-14f9f4c4e4f1",
        "deepnote_to_be_reexecuted": false,
        "source_hash": "561ef17f",
        "execution_millis": 3,
        "execution_start": 1618802312134,
        "deepnote_cell_type": "code"
      },
      "source": "# 13 - Randomly select 20 observations, display the tuition of these observation.\ndf1 = df.sample(20)",
      "execution_count": 28,
      "outputs": []
    },
    {
      "cell_type": "code",
      "metadata": {
        "tags": [],
        "cell_id": "00019-1c3c8d78-5eb4-462c-97ec-9ba314165018",
        "deepnote_to_be_reexecuted": false,
        "source_hash": "3810d404",
        "execution_millis": 20,
        "execution_start": 1618802318338,
        "deepnote_cell_type": "code"
      },
      "source": "t_20 = df1[\"TUITIONFEE_IN\"]\nt_20",
      "execution_count": 29,
      "outputs": [
        {
          "output_type": "execute_result",
          "execution_count": 29,
          "data": {
            "text/plain": "5157     8633.0\n1774    20605.0\n6264    11145.0\n216       732.0\n1356    14196.0\n3967    21624.0\n3817     2470.0\n2935     5289.0\n6789    10368.0\n3142     2780.0\n2511    10600.0\n3867     2740.0\n5275     2344.0\n3426    15880.0\n1428     2592.0\n540       758.0\n821      8600.0\n1426    12000.0\n1278    10000.0\n5490    12015.0\nName: TUITIONFEE_IN, dtype: float64"
          },
          "metadata": {}
        }
      ]
    },
    {
      "cell_type": "code",
      "metadata": {
        "tags": [],
        "cell_id": "00020-949bdb60-f439-483e-9272-fc01667fdec5",
        "deepnote_to_be_reexecuted": false,
        "source_hash": "6d028694",
        "execution_millis": 6,
        "execution_start": 1618802323396,
        "deepnote_cell_type": "code"
      },
      "source": "# 14 - Calculate and displat the mean tuition of these 20 observations\ndf_mean20 = t_20.mean()\ndf_mean20",
      "execution_count": 30,
      "outputs": [
        {
          "output_type": "execute_result",
          "execution_count": 30,
          "data": {
            "text/plain": "8768.55"
          },
          "metadata": {}
        }
      ]
    },
    {
      "cell_type": "code",
      "metadata": {
        "tags": [],
        "cell_id": "00021-2ef12e73-2f2b-4f74-80b3-745762f88c90",
        "deepnote_to_be_reexecuted": false,
        "source_hash": "38b0dffd",
        "execution_millis": 7,
        "execution_start": 1618802334876,
        "deepnote_cell_type": "code"
      },
      "source": "# 15 - Calculate  the different between the average tuition of these 20 observations \n# and the mean tuition off all observations calculated earlier.\n# Display the difference\ndiff_20 = df_mean-df_mean20\ndiff_20",
      "execution_count": 31,
      "outputs": [
        {
          "output_type": "execute_result",
          "execution_count": 31,
          "data": {
            "text/plain": "818.1265834932838"
          },
          "metadata": {}
        }
      ]
    },
    {
      "cell_type": "code",
      "metadata": {
        "tags": [],
        "cell_id": "00022-e28ad488-4e3b-4dba-b937-51d36a1bc670",
        "deepnote_to_be_reexecuted": false,
        "source_hash": "1e971892",
        "execution_millis": 8,
        "execution_start": 1618803045872,
        "deepnote_cell_type": "code"
      },
      "source": "# 16 - Repeat 13 to 15 several times and get the feel of the size of the difference in means \n# Compare these differences with the differences calculated earlier with just 1 observation\n# Describe your hunch/conclusion\nfor i in  range(0,14):\n    df1=df.sample(20)\n    df1=df1.sample(1)\n    print(df1['TUITIONFEE_IN'].mean()-diff_20)",
      "execution_count": 40,
      "outputs": [
        {
          "name": "stdout",
          "text": "13377.873416506716\n951.8734165067162\n16619.873416506714\n31189.873416506714\n2118.8734165067162\n-194.12658349328376\n1796.8734165067162\n1465.8734165067162\n14341.873416506716\n21931.873416506714\n-2.1265834932837606\n9041.873416506716\n7681.873416506716\n11355.873416506716\n",
          "output_type": "stream"
        }
      ]
    },
    {
      "cell_type": "markdown",
      "source": "Write a function that take two input parameters:\n\nx (number of observations)\ny (the name of the dataframe).\nThe function will perform the following:\n\nRandomly select x observations from y\nCalculate the mean of these x observations\nCalculate the mean of all observations\nCalculate the difference between the two means\nReturn the difference",
      "metadata": {
        "tags": [],
        "cell_id": "00026-10c601b1-37da-4d7d-96f9-ecad1952089e",
        "deepnote_cell_type": "markdown"
      }
    },
    {
      "cell_type": "code",
      "metadata": {
        "tags": [],
        "cell_id": "00023-0541f5af-6bd3-493c-a511-21619aa79c46",
        "deepnote_to_be_reexecuted": false,
        "source_hash": "b072d6a9",
        "execution_millis": 5,
        "execution_start": 1618803072446,
        "deepnote_cell_type": "code"
      },
      "source": "# 17 - write function Code here\ndef diiff(x,y):\n    a=y.sample(x)\n    mean1 = y['TUITIONFEE_IN'].mean()\n    mean2 = a['TUITIONFEE_IN'].mean()\n    mean_dif = mean1-mean2\n    return mean_dif\n\n",
      "execution_count": 42,
      "outputs": []
    },
    {
      "cell_type": "code",
      "metadata": {
        "tags": [],
        "cell_id": "00024-fc73f074-ed86-44d8-afb5-cebe5837fa04",
        "deepnote_to_be_reexecuted": false,
        "source_hash": "d441fe62",
        "execution_millis": 13,
        "execution_start": 1618803069334,
        "deepnote_cell_type": "code"
      },
      "source": "# 18 - test the function by passing a sample size and the name of the dataframe\n# Dsplay the return of the function\ndiiff(30,df)",
      "execution_count": 41,
      "outputs": [
        {
          "output_type": "execute_result",
          "execution_count": 41,
          "data": {
            "text/plain": "1192.3765834932838"
          },
          "metadata": {}
        }
      ]
    },
    {
      "cell_type": "code",
      "metadata": {
        "tags": [],
        "cell_id": "00025-d1efe79d-e785-45fb-9d5c-9c784b090e87",
        "deepnote_to_be_reexecuted": false,
        "source_hash": "6fb30ea2",
        "execution_millis": 6,
        "execution_start": 1618803078360,
        "deepnote_cell_type": "code"
      },
      "source": "# 19 - Create a list of sequence numbers from 1 to 50, name it \"sample_sizes\";\n# display it to make sure its members are from 1 to 50\nsample_sizes = [x for x in range(1,50)]\nsample_sizes",
      "execution_count": 43,
      "outputs": [
        {
          "output_type": "execute_result",
          "execution_count": 43,
          "data": {
            "text/plain": "[1,\n 2,\n 3,\n 4,\n 5,\n 6,\n 7,\n 8,\n 9,\n 10,\n 11,\n 12,\n 13,\n 14,\n 15,\n 16,\n 17,\n 18,\n 19,\n 20,\n 21,\n 22,\n 23,\n 24,\n 25,\n 26,\n 27,\n 28,\n 29,\n 30,\n 31,\n 32,\n 33,\n 34,\n 35,\n 36,\n 37,\n 38,\n 39,\n 40,\n 41,\n 42,\n 43,\n 44,\n 45,\n 46,\n 47,\n 48,\n 49]"
          },
          "metadata": {}
        }
      ]
    },
    {
      "cell_type": "code",
      "metadata": {
        "tags": [],
        "cell_id": "00026-6b62d0f3-a690-4376-a68f-62acd3abd6ab",
        "deepnote_to_be_reexecuted": false,
        "source_hash": "58ddaeb4",
        "execution_millis": 31,
        "execution_start": 1618803082571,
        "deepnote_cell_type": "code"
      },
      "source": "# 20 - Create an empty list and name it \"means_diff\" for differences of population mean and sample means;\n# Loop through the list sample_sizes:\n# For each element in the sample size list, obtain a random sample of that size from the data frame;\n# Calculate the sample mean \n# Calculate the difference between the population mean and the sample mean\n# Append the difference to the list \"means_diff\"\n# Display the list \"means_diff\" after the loop is completed\nmeans_diff = []\nfor x in sample_sizes:\n    means_diff.append(diiff(x,df))\nprint(means_diff)",
      "execution_count": 44,
      "outputs": [
        {
          "name": "stdout",
          "text": "[6298.676583493283, 1630.676583493283, 4055.34325015995, 5892.426583493283, 5952.476583493283, -7125.490083173385, 944.5337263504262, -2980.573416506717, 4331.34325015995, -683.823416506717, -568.4143255976269, 50.84325015994909, 541.8304296471288, -1758.9662736495738, 842.3432501599491, 1183.614083493283, -1065.0881223890701, -1427.0456387289396, -5161.586574401454, -122.5234165067177, -1267.8948450781463, 717.494765311465, 1606.111366101979, 1275.051583493283, 1346.2365834932825, 285.715045031744, 1776.4543612710604, 1432.56944063614, 1281.5041697001798, -1896.2234165067166, -2454.355674571234, 714.176583493283, 901.5856744023731, 625.2059952579893, -1447.6948450781456, -375.3789720622717, 38.19009700679635, -630.0076270330319, -85.09264727594746, 699.5265834932834, 1634.0668273957217, 856.509916826617, 391.2347230281666, -75.91432559762688, 409.94325015994946, -306.04080781106495, 989.8893494507302, 705.697416826617, 1070.1663794116503]\n",
          "output_type": "stream"
        }
      ]
    },
    {
      "cell_type": "code",
      "metadata": {
        "tags": [],
        "cell_id": "00027-30c0b850-3cc9-407f-a599-8c787045cbab",
        "deepnote_to_be_reexecuted": false,
        "source_hash": "41877395",
        "execution_millis": 120,
        "execution_start": 1618803086434,
        "deepnote_cell_type": "code"
      },
      "source": "# 21 - Make a scatter plot with sample size on the x-axs and  mean difference on the y-axis\n# Observe as the sample size increases, the sample means converge to the population mean.\n# Make sure you make the plot large enough\nimport matplotlib.pyplot as plt\nplt.scatter(sample_sizes,means_diff)",
      "execution_count": 45,
      "outputs": [
        {
          "output_type": "execute_result",
          "execution_count": 45,
          "data": {
            "text/plain": "<matplotlib.collections.PathCollection at 0x7f817b752f50>"
          },
          "metadata": {}
        },
        {
          "data": {
            "text/plain": "<Figure size 432x288 with 1 Axes>",
            "image/png": "[encoded data removed]"
          },
          "metadata": {
            "needs_background": "light"
          },
          "output_type": "display_data"
        }
      ]
    },
    {
      "cell_type": "code",
      "metadata": {
        "tags": [],
        "cell_id": "00028-2d780b07-358a-4c52-be84-dd7a51bce4d1",
        "deepnote_to_be_reexecuted": false,
        "source_hash": "e5fb75a0",
        "execution_millis": 3017,
        "execution_start": 1618803090185,
        "deepnote_cell_type": "code"
      },
      "source": "# 22 - repeat 18 to 21 by replacing 50 with a larger number. For example, 300, or even 1000.\n# and see how the plot looks.\nfor x in range(1,18):\n    sample_sizes=[x for x in range(1,300)]\n    means_diff=[]\n    for y in sample_sizes:\n        means_diff.append(diiff(y,df))\n    plt.scatter(sample_sizes,means_diff)",
      "execution_count": 46,
      "outputs": [
        {
          "data": {
            "text/plain": "<Figure size 432x288 with 1 Axes>",
            "image/png": "[encoded data removed]"
          },
          "metadata": {
            "needs_background": "light"
          },
          "output_type": "display_data"
        }
      ]
    },
    {
      "cell_type": "markdown",
      "source": "<a style='text-decoration:none;line-height:16px;display:flex;color:#5B5B62;padding:10px;justify-content:end;' href='https://deepnote.com?utm_source=created-in-deepnote-cell&projectId=e2dfb949-5e2a-4477-afec-d6dde745cd37' target=\"_blank\">\n<img alt='Created in deepnote.com' style='display:inline;max-height:16px;margin:0px;margin-right:7.5px;' src='data:image/svg+xml;base64,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' > </img>\nCreated in <span style='font-weight:600;margin-left:4px;'>Deepnote</span></a>",
      "metadata": {
        "tags": [],
        "created_in_deepnote_cell": true,
        "deepnote_cell_type": "markdown"
      }
    }
  ],
  "nbformat": 4,
  "nbformat_minor": 2,
  "metadata": {
    "orig_nbformat": 2,
    "deepnote": {
      "is_reactive": false
    },
    "deepnote_notebook_id": "5fe8f9a4-7068-46d4-aa5d-bf94eaaf5fa0",
    "deepnote_execution_queue": []
  }
}